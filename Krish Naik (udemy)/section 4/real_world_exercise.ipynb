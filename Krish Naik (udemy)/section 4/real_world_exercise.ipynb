{
 "cells": [
  {
   "cell_type": "markdown",
   "id": "3d8930a2",
   "metadata": {},
   "source": [
    "# Real world Exercise"
   ]
  },
  {
   "cell_type": "markdown",
   "id": "0152f6fc",
   "metadata": {},
   "source": [
    "# to do list"
   ]
  },
  {
   "cell_type": "code",
   "execution_count": 3,
   "id": "5d0a598b",
   "metadata": {},
   "outputs": [
    {
     "name": "stdout",
     "output_type": "stream",
     "text": [
      "You have bills to pay!\n",
      "To Do List remaining:\n",
      "- buy groceries\n",
      "- pay bills\n",
      "- buy milk\n",
      "- call mom\n",
      "- read book\n"
     ]
    }
   ],
   "source": [
    " # Example 1. Manage a to do list\n",
    " \n",
    " to_do_list = [\"buy groceries\", \"clean the house\", \"pay bills\"]\n",
    " \n",
    " ## adding to task\n",
    "\n",
    "to_do_list.append(\"buy milk\")\n",
    "to_do_list.append(\"call mom\")   # ← এখন ইনডেন্ট ঠিক আছে\n",
    "to_do_list.append(\"read book\")\n",
    "\n",
    "# removing a completed task\n",
    "\n",
    "to_do_list.remove(\"clean the house\")\n",
    "\n",
    "# checking if a task is in the list\n",
    "if \"pay bills\" in to_do_list:\n",
    "    print(\"You have bills to pay!\")\n",
    "    \n",
    "print(\"To Do List remaining:\")\n",
    "\n",
    "for task in to_do_list:\n",
    "    print(f\"- {task}\")"
   ]
  },
  {
   "cell_type": "markdown",
   "id": "83e230ee",
   "metadata": {},
   "source": [
    "# organaizing student grades"
   ]
  },
  {
   "cell_type": "code",
   "execution_count": 4,
   "id": "70154156",
   "metadata": {},
   "outputs": [
    {
     "name": "stdout",
     "output_type": "stream",
     "text": [
      "Average grade: 82.56\n",
      "Highest grade: 100\n",
      "Lowest grade: 60\n"
     ]
    }
   ],
   "source": [
    "grades=[80,90,85,70,95,100,60,75]\n",
    "\n",
    "# adding a new grade\n",
    "grades.append(88)\n",
    "\n",
    "# calculating the average grade\n",
    "average_grade = sum(grades) / len(grades)\n",
    "print(f\"Average grade: {average_grade:.2f}\")\n",
    "\n",
    "# finding the highest and lowest grades\n",
    "highest_grade = max(grades)\n",
    "lowest_grade = min(grades)\n",
    "print(f\"Highest grade: {highest_grade}\")\n",
    "print(f\"Lowest grade: {lowest_grade}\")"
   ]
  },
  {
   "cell_type": "markdown",
   "id": "ed870bea",
   "metadata": {},
   "source": [
    "# Managing a inventory"
   ]
  },
  {
   "cell_type": "code",
   "execution_count": 6,
   "id": "527488cf",
   "metadata": {},
   "outputs": [
    {
     "name": "stdout",
     "output_type": "stream",
     "text": [
      "oranges are in stock.\n",
      "Current inventory:\n",
      "- apples\n",
      "- oranges\n",
      "- grapes\n",
      "- pears\n"
     ]
    }
   ],
   "source": [
    "inventory = ['apples', 'bananas', 'oranges']\n",
    "\n",
    "# adding items to the inventory\n",
    "inventory.append('grapes')\n",
    "inventory.append('pears')\n",
    "\n",
    "# removing an item from the inventory\n",
    "inventory.remove('bananas')\n",
    "\n",
    "# checking if an item is in the inventory\n",
    "item ='oranges'\n",
    "if item in inventory:\n",
    "    print(f\"{item} are in stock.\")\n",
    "else:\n",
    "    print(f\"{item} are not in stock.\")\n",
    "    \n",
    "    \n",
    "#printing\n",
    "print(\"Current inventory:\")\n",
    "\n",
    "for item in inventory:\n",
    "    print(f\"- {item}\")"
   ]
  },
  {
   "cell_type": "code",
   "execution_count": null,
   "id": "a0024707",
   "metadata": {},
   "outputs": [],
   "source": []
  }
 ],
 "metadata": {
  "kernelspec": {
   "display_name": "base",
   "language": "python",
   "name": "python3"
  },
  "language_info": {
   "codemirror_mode": {
    "name": "ipython",
    "version": 3
   },
   "file_extension": ".py",
   "mimetype": "text/x-python",
   "name": "python",
   "nbconvert_exporter": "python",
   "pygments_lexer": "ipython3",
   "version": "3.12.7"
  }
 },
 "nbformat": 4,
 "nbformat_minor": 5
}
