{
 "cells": [
  {
   "cell_type": "markdown",
   "id": "731d119c",
   "metadata": {},
   "source": [
    "# touple"
   ]
  },
  {
   "cell_type": "code",
   "execution_count": 2,
   "id": "c1b0b26f",
   "metadata": {},
   "outputs": [
    {
     "name": "stdout",
     "output_type": "stream",
     "text": [
      "Index of 3: 2\n"
     ]
    }
   ],
   "source": [
    "num=[1,2,3,4,5,6,6]\n",
    "\n",
    "indexing=num.index(3)\n",
    "print(\"Index of 3:\", indexing)"
   ]
  },
  {
   "cell_type": "code",
   "execution_count": 3,
   "id": "de3f3eec",
   "metadata": {},
   "outputs": [
    {
     "name": "stdout",
     "output_type": "stream",
     "text": [
      "Count of 6: 2\n"
     ]
    }
   ],
   "source": [
    "count_num=num.count(6)\n",
    "print(\"Count of 6:\", count_num)"
   ]
  },
  {
   "cell_type": "markdown",
   "id": "3c36b609",
   "metadata": {},
   "source": [
    "# unpack touple\n",
    "\n"
   ]
  },
  {
   "cell_type": "code",
   "execution_count": 7,
   "id": "bb9c7767",
   "metadata": {},
   "outputs": [],
   "source": [
    "fruits=(\"apple\", \"banana\", \"cherry\",\"dog\")\n"
   ]
  },
  {
   "cell_type": "code",
   "execution_count": 9,
   "id": "f35edde9",
   "metadata": {},
   "outputs": [
    {
     "name": "stdout",
     "output_type": "stream",
     "text": [
      "First fruit: apple\n",
      "Second fruit: banana\n",
      "Third fruit: cherry\n"
     ]
    }
   ],
   "source": [
    "(a,b,c,d) = fruits\n",
    "print(\"First fruit:\", a)\n",
    "print(\"Second fruit:\", b)\n",
    "print(\"Third fruit:\", c)"
   ]
  },
  {
   "cell_type": "code",
   "execution_count": 11,
   "id": "9addf7af",
   "metadata": {},
   "outputs": [
    {
     "name": "stdout",
     "output_type": "stream",
     "text": [
      "Single fruit: ['apple', 'banana', 'cherry', 'dog']\n"
     ]
    }
   ],
   "source": [
    "(*a,) =fruits\n",
    "print(\"Single fruit:\", a)"
   ]
  },
  {
   "cell_type": "code",
   "execution_count": 12,
   "id": "c2dd6cc0",
   "metadata": {},
   "outputs": [
    {
     "name": "stdout",
     "output_type": "stream",
     "text": [
      "First fruit: ['apple', 'banana', 'cherry']\n"
     ]
    }
   ],
   "source": [
    "(*a,b) = fruits\n",
    "print(\"First fruit:\", a)"
   ]
  },
  {
   "cell_type": "code",
   "execution_count": 14,
   "id": "7e6f0ff9",
   "metadata": {},
   "outputs": [
    {
     "name": "stdout",
     "output_type": "stream",
     "text": [
      "['banana', 'cherry', 'dog']\n"
     ]
    }
   ],
   "source": [
    "(a,*b) = fruits\n",
    "print(b)"
   ]
  },
  {
   "cell_type": "code",
   "execution_count": 15,
   "id": "0b2d73b9",
   "metadata": {},
   "outputs": [
    {
     "name": "stdout",
     "output_type": "stream",
     "text": [
      "['cherry', 'dog']\n"
     ]
    }
   ],
   "source": [
    "(a,b,*c) = fruits\n",
    "print(c)"
   ]
  },
  {
   "cell_type": "markdown",
   "id": "15b7869d",
   "metadata": {},
   "source": [
    "# packing touple"
   ]
  },
  {
   "cell_type": "code",
   "execution_count": 16,
   "id": "560c3caf",
   "metadata": {},
   "outputs": [
    {
     "name": "stdout",
     "output_type": "stream",
     "text": [
      "('Sakib', 22, 'Dhaka')\n"
     ]
    }
   ],
   "source": [
    "info = ('Sakib', 22, 'Dhaka')\n",
    "print(info)"
   ]
  },
  {
   "cell_type": "code",
   "execution_count": 17,
   "id": "8a74d29c",
   "metadata": {},
   "outputs": [
    {
     "name": "stdout",
     "output_type": "stream",
     "text": [
      "(1, 2, 3)\n",
      "<class 'tuple'>\n"
     ]
    }
   ],
   "source": [
    "t = 1, 2, 3\n",
    "print(t)\n",
    "print(type(t))"
   ]
  },
  {
   "cell_type": "code",
   "execution_count": 18,
   "id": "5c50757e",
   "metadata": {},
   "outputs": [
    {
     "name": "stdout",
     "output_type": "stream",
     "text": [
      "('Sadia', 21, 3.92, True)\n"
     ]
    }
   ],
   "source": [
    "student = ('Sadia', 21, 3.92, True)\n",
    "print(student)"
   ]
  },
  {
   "cell_type": "code",
   "execution_count": null,
   "id": "bacea506",
   "metadata": {},
   "outputs": [],
   "source": []
  }
 ],
 "metadata": {
  "kernelspec": {
   "display_name": "base",
   "language": "python",
   "name": "python3"
  },
  "language_info": {
   "codemirror_mode": {
    "name": "ipython",
    "version": 3
   },
   "file_extension": ".py",
   "mimetype": "text/x-python",
   "name": "python",
   "nbconvert_exporter": "python",
   "pygments_lexer": "ipython3",
   "version": "3.12.7"
  }
 },
 "nbformat": 4,
 "nbformat_minor": 5
}
