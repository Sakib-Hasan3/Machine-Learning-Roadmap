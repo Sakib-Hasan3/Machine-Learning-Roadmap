{
 "cells": [
  {
   "cell_type": "markdown",
   "id": "26e21a81",
   "metadata": {},
   "source": [
    "# Dictionaries "
   ]
  },
  {
   "cell_type": "code",
   "execution_count": 2,
   "id": "45ade040",
   "metadata": {},
   "outputs": [
    {
     "name": "stdout",
     "output_type": "stream",
     "text": [
      "{'name': 'Sakib', 'age': 22, 'dept': 'CSE'}\n"
     ]
    }
   ],
   "source": [
    "student = {\n",
    "    \"name\": \"Sakib\",\n",
    "    \"age\": 22,\n",
    "    \"dept\": \"CSE\"\n",
    "}\n",
    "\n",
    "print(student)"
   ]
  },
  {
   "cell_type": "code",
   "execution_count": 3,
   "id": "c4e49c5a",
   "metadata": {},
   "outputs": [
    {
     "name": "stdout",
     "output_type": "stream",
     "text": [
      "Sakib\n",
      "22\n"
     ]
    }
   ],
   "source": [
    "# dictionary access\n",
    "\n",
    "print(student[\"name\"])      \n",
    "print(student.get(\"age\"))"
   ]
  },
  {
   "cell_type": "code",
   "execution_count": 4,
   "id": "6506b86c",
   "metadata": {},
   "outputs": [
    {
     "name": "stdout",
     "output_type": "stream",
     "text": [
      "{'name': 'Sakib', 'age': 23, 'dept': 'CSE'}\n"
     ]
    }
   ],
   "source": [
    "student[\"age\"] = 23\n",
    "print(student)"
   ]
  },
  {
   "cell_type": "code",
   "execution_count": 5,
   "id": "6a2f30a7",
   "metadata": {},
   "outputs": [
    {
     "name": "stdout",
     "output_type": "stream",
     "text": [
      "{'name': 'Sakib', 'age': 23, 'dept': 'CSE', 'university': 'PSTU'}\n"
     ]
    }
   ],
   "source": [
    "# add new element\n",
    "\n",
    "student[\"university\"] = \"PSTU\"\n",
    "print(student)"
   ]
  },
  {
   "cell_type": "code",
   "execution_count": 6,
   "id": "dd76a4b2",
   "metadata": {},
   "outputs": [
    {
     "name": "stdout",
     "output_type": "stream",
     "text": [
      "name : Sakib\n",
      "age : 23\n",
      "dept : CSE\n",
      "university : PSTU\n"
     ]
    }
   ],
   "source": [
    "for key in student:\n",
    "    print(key, \":\", student[key])"
   ]
  },
  {
   "cell_type": "code",
   "execution_count": 7,
   "id": "bafce801",
   "metadata": {},
   "outputs": [
    {
     "name": "stdout",
     "output_type": "stream",
     "text": [
      "name Sakib\n",
      "age 23\n",
      "dept CSE\n",
      "university PSTU\n"
     ]
    }
   ],
   "source": [
    "for key, value in student.items():\n",
    "    print(key, value)"
   ]
  },
  {
   "cell_type": "code",
   "execution_count": 8,
   "id": "29db5575",
   "metadata": {},
   "outputs": [
    {
     "name": "stdout",
     "output_type": "stream",
     "text": [
      "dict_keys(['name', 'age', 'dept', 'university'])\n"
     ]
    }
   ],
   "source": [
    "print(student.keys())"
   ]
  },
  {
   "cell_type": "code",
   "execution_count": 9,
   "id": "4265b07b",
   "metadata": {},
   "outputs": [
    {
     "name": "stdout",
     "output_type": "stream",
     "text": [
      "dict_values(['Sakib', 23, 'CSE', 'PSTU'])\n"
     ]
    }
   ],
   "source": [
    "print(student.values())"
   ]
  },
  {
   "cell_type": "code",
   "execution_count": 10,
   "id": "e685530f",
   "metadata": {},
   "outputs": [
    {
     "name": "stdout",
     "output_type": "stream",
     "text": [
      "dict_items([('name', 'Sakib'), ('age', 23), ('dept', 'CSE'), ('university', 'PSTU')])\n"
     ]
    }
   ],
   "source": [
    "print(student.items())"
   ]
  },
  {
   "cell_type": "code",
   "execution_count": 13,
   "id": "1d3672be",
   "metadata": {},
   "outputs": [
    {
     "name": "stdout",
     "output_type": "stream",
     "text": [
      "{'name': 'Sakib', 'age': 24, 'dept': 'EEE', 'university': 'PSTU'}\n"
     ]
    }
   ],
   "source": [
    "student.update({\"age\": 24, \"dept\": \"EEE\"})\n",
    "print(student)"
   ]
  },
  {
   "cell_type": "code",
   "execution_count": 14,
   "id": "68549fc6",
   "metadata": {},
   "outputs": [
    {
     "data": {
      "text/plain": [
       "'EEE'"
      ]
     },
     "execution_count": 14,
     "metadata": {},
     "output_type": "execute_result"
    }
   ],
   "source": [
    "student.pop(\"dept\")"
   ]
  },
  {
   "cell_type": "code",
   "execution_count": 15,
   "id": "77102064",
   "metadata": {},
   "outputs": [
    {
     "data": {
      "text/plain": [
       "('university', 'PSTU')"
      ]
     },
     "execution_count": 15,
     "metadata": {},
     "output_type": "execute_result"
    }
   ],
   "source": [
    "student.popitem()"
   ]
  },
  {
   "cell_type": "code",
   "execution_count": 16,
   "id": "4986daa1",
   "metadata": {},
   "outputs": [],
   "source": [
    "# clear the dictionary\n",
    "student.clear()"
   ]
  },
  {
   "cell_type": "code",
   "execution_count": 17,
   "id": "69cebab3",
   "metadata": {},
   "outputs": [
    {
     "name": "stdout",
     "output_type": "stream",
     "text": [
      "{0: 0, 1: 1, 2: 4, 3: 9, 4: 16}\n"
     ]
    }
   ],
   "source": [
    "# dictionary comprehension\n",
    "\n",
    "squares = {x: x**2 for x in range(5)}\n",
    "print(squares)"
   ]
  },
  {
   "cell_type": "code",
   "execution_count": 23,
   "id": "2edce6f1",
   "metadata": {},
   "outputs": [
    {
     "name": "stdout",
     "output_type": "stream",
     "text": [
      "BBA\n"
     ]
    }
   ],
   "source": [
    "# nested dictionaries\n",
    "\n",
    "students = {\n",
    "    \"sakib\": {\"age\": 22, \"dept\": \"CSE\"},\n",
    "    \"rahim\": {\"age\": 23, \"dept\": \"BBA\"}\n",
    "}\n",
    "\n",
    "print(students[\"rahim\"][\"dept\"]) \n"
   ]
  },
  {
   "cell_type": "code",
   "execution_count": 20,
   "id": "251bce46",
   "metadata": {},
   "outputs": [],
   "source": [
    "if \"age\" in student:\n",
    "    print(\"Age exists\")"
   ]
  },
  {
   "cell_type": "code",
   "execution_count": 21,
   "id": "192f7590",
   "metadata": {},
   "outputs": [],
   "source": [
    "# from dictionary to list\n",
    "\n",
    "keys = list(student.keys())\n",
    "values = list(student.values())\n",
    "items = list(student.items())"
   ]
  },
  {
   "cell_type": "code",
   "execution_count": null,
   "id": "197848db",
   "metadata": {},
   "outputs": [],
   "source": []
  }
 ],
 "metadata": {
  "kernelspec": {
   "display_name": "base",
   "language": "python",
   "name": "python3"
  },
  "language_info": {
   "codemirror_mode": {
    "name": "ipython",
    "version": 3
   },
   "file_extension": ".py",
   "mimetype": "text/x-python",
   "name": "python",
   "nbconvert_exporter": "python",
   "pygments_lexer": "ipython3",
   "version": "3.12.7"
  }
 },
 "nbformat": 4,
 "nbformat_minor": 5
}
