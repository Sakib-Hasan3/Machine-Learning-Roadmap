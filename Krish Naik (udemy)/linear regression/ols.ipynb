{
 "cells": [
  {
   "cell_type": "code",
   "execution_count": 1,
   "id": "e37c9893",
   "metadata": {},
   "outputs": [],
   "source": [
    "import numpy as np"
   ]
  },
  {
   "cell_type": "code",
   "execution_count": 2,
   "id": "e9a286b9",
   "metadata": {},
   "outputs": [],
   "source": [
    "X = np.array([1, 2, 3, 4, 5])\n",
    "Y = np.array([2, 4, 5, 4, 5])"
   ]
  },
  {
   "cell_type": "code",
   "execution_count": 3,
   "id": "dd509591",
   "metadata": {},
   "outputs": [],
   "source": [
    "x_bar = np.mean(X)\n",
    "y_bar = np.mean(Y)"
   ]
  },
  {
   "cell_type": "code",
   "execution_count": 4,
   "id": "77ab9673",
   "metadata": {},
   "outputs": [],
   "source": [
    "b1 = np.sum((X - x_bar) * (Y - y_bar)) / np.sum((X - x_bar)**2)\n",
    "b0 = y_bar - b1 * x_bar"
   ]
  },
  {
   "cell_type": "code",
   "execution_count": 5,
   "id": "ac520428",
   "metadata": {},
   "outputs": [
    {
     "name": "stdout",
     "output_type": "stream",
     "text": [
      "Intercept (β₀): 2.2\n",
      "Coefficient (β₁): 0.6\n"
     ]
    }
   ],
   "source": [
    "print(f\"Intercept (β₀): {b0}\")\n",
    "print(f\"Coefficient (β₁): {b1}\")"
   ]
  },
  {
   "cell_type": "code",
   "execution_count": null,
   "id": "5f455f8d",
   "metadata": {},
   "outputs": [],
   "source": []
  }
 ],
 "metadata": {
  "kernelspec": {
   "display_name": "base",
   "language": "python",
   "name": "python3"
  },
  "language_info": {
   "codemirror_mode": {
    "name": "ipython",
    "version": 3
   },
   "file_extension": ".py",
   "mimetype": "text/x-python",
   "name": "python",
   "nbconvert_exporter": "python",
   "pygments_lexer": "ipython3",
   "version": "3.12.7"
  }
 },
 "nbformat": 4,
 "nbformat_minor": 5
}
