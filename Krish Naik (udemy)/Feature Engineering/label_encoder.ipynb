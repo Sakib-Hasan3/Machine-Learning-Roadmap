{
 "cells": [
  {
   "cell_type": "markdown",
   "id": "ea27f595",
   "metadata": {},
   "source": [
    "# label encoder"
   ]
  },
  {
   "cell_type": "code",
   "execution_count": 1,
   "id": "43a890a2",
   "metadata": {},
   "outputs": [],
   "source": [
    "classes = ['classA', 'classB', 'classC', 'classD']\n",
    "\n",
    "instances = ['classA','classB','classC','classD','classA','classB','classC','classD','classA','classB']\n"
   ]
  },
  {
   "cell_type": "code",
   "execution_count": 2,
   "id": "b3717595",
   "metadata": {},
   "outputs": [],
   "source": [
    "label_to_int ={label: index for index, label in enumerate(classes)}"
   ]
  },
  {
   "cell_type": "code",
   "execution_count": 3,
   "id": "f1eec03f",
   "metadata": {},
   "outputs": [
    {
     "name": "stdout",
     "output_type": "stream",
     "text": [
      "[0, 1, 2, 3, 0, 1, 2, 3, 0, 1]\n"
     ]
    }
   ],
   "source": [
    "encoded_labels = [label_to_int[label] for label in instances]\n",
    "print(encoded_labels)\n"
   ]
  },
  {
   "cell_type": "code",
   "execution_count": 5,
   "id": "0713ca06",
   "metadata": {},
   "outputs": [
    {
     "name": "stdout",
     "output_type": "stream",
     "text": [
      "[0, 1, 2, 3, 0, 1, 2, 3, 0, 1]\n",
      "['classA', 'classB', 'classC', 'classD', 'classA', 'classB', 'classC', 'classD', 'classA', 'classB']\n"
     ]
    }
   ],
   "source": [
    "int_to_label = {index: label for index, label in enumerate(classes)}\n",
    "decoded_labels = [int_to_label[index] for index in encoded_labels]\n",
    "print(encoded_labels)\n",
    "print(decoded_labels)"
   ]
  },
  {
   "cell_type": "markdown",
   "id": "582b61c7",
   "metadata": {},
   "source": [
    "# Skleran -label encoder "
   ]
  },
  {
   "cell_type": "code",
   "execution_count": 6,
   "id": "9e6be41b",
   "metadata": {},
   "outputs": [],
   "source": [
    "from sklearn.preprocessing import LabelEncoder"
   ]
  },
  {
   "cell_type": "code",
   "execution_count": 7,
   "id": "d2d36267",
   "metadata": {},
   "outputs": [
    {
     "name": "stdout",
     "output_type": "stream",
     "text": [
      "[0 1 2 3 0 1 2 3 0 1]\n"
     ]
    }
   ],
   "source": [
    "label_encoder= LabelEncoder()\n",
    "encoded_labels = label_encoder.fit_transform(instances)\n",
    "print(encoded_labels)"
   ]
  },
  {
   "cell_type": "code",
   "execution_count": 9,
   "id": "4df4eec7",
   "metadata": {},
   "outputs": [
    {
     "name": "stdout",
     "output_type": "stream",
     "text": [
      "[0 1 2 3 0 1 2 3 0 1]\n",
      "['classA' 'classB' 'classC' 'classD' 'classA' 'classB' 'classC' 'classD'\n",
      " 'classA' 'classB']\n"
     ]
    }
   ],
   "source": [
    "original_labels = label_encoder.inverse_transform(encoded_labels)\n",
    "print(encoded_labels)\n",
    "print(original_labels)"
   ]
  },
  {
   "cell_type": "code",
   "execution_count": null,
   "id": "6fd8a65e",
   "metadata": {},
   "outputs": [],
   "source": []
  }
 ],
 "metadata": {
  "kernelspec": {
   "display_name": "base",
   "language": "python",
   "name": "python3"
  },
  "language_info": {
   "codemirror_mode": {
    "name": "ipython",
    "version": 3
   },
   "file_extension": ".py",
   "mimetype": "text/x-python",
   "name": "python",
   "nbconvert_exporter": "python",
   "pygments_lexer": "ipython3",
   "version": "3.12.7"
  }
 },
 "nbformat": 4,
 "nbformat_minor": 5
}
