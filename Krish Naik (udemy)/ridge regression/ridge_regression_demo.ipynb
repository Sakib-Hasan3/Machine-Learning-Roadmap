
{
 "cells": [
  {
   "cell_type": "markdown",
   "id": "44e8dcb6",
   "metadata": {},
   "source": [
    "# রিজ রিগ্রেশন ডেমো (Ridge Regression Demo)\n",
    "\n",
    "রিজ রিগ্রেশন ব্যবহার করে ডামি ডেটাসেটের উপর মডেল ট্রেইনিং, মূল্যায়ন ও ভিজ্যুয়ালাইজেশন।\n",
    "\n",
    "**Outline:**\n",
    "1. প্রয়োজনীয় লাইব্রেরি ইম্পোর্ট\n",
    "2. ডামি ডেটাসেট তৈরি\n",
    "3. ট্রেইন-টেস্ট স্প্লিট\n",
    "4. রিজ রিগ্রেশন মডেল তৈরি ও ট্রেইনিং\n",
    "5. প্রেডিকশন\n",
    "6. ফলাফল মূল্যায়ন\n",
    "7. মডেল কো-ইফিসিয়েন্ট ও ইন্টারসেপ্ট দেখানো\n",
    "8. গ্রাফে ফলাফল প্রদর্শন"
   ]
  },
  {
   "cell_type": "markdown",
   "id": "b56fb1d4",
   "metadata": {},
   "source": [
    "## ১. প্রয়োজনীয় লাইব্রেরি ইম্পোর্ট\n",
    "\n",
    "NumPy, matplotlib, sklearn থেকে প্রয়োজনীয় লাইব্রেরি ইম্পোর্ট করুন।"
   ]
  },
  {
   "cell_type": "code",
   "execution_count": null,
   "id": "ec3bc5ad",
   "metadata": {},
   "outputs": [],
   "source": [
    "# প্রয়োজনীয় লাইব্রেরি ইম্পোর্ট\n",
    "import numpy as np\n",
    "import matplotlib.pyplot as plt\n",
    "from sklearn.linear_model import Ridge\n",
    "from sklearn.model_selection import train_test_split\n",
    "from sklearn.metrics import mean_squared_error"
   ]
  },
  {
   "cell_type": "markdown",
   "id": "14ef3178",
   "metadata": {},
   "source": [
    "## ২. ডামি ডেটাসেট তৈরি\n",
    "\n",
    "np.random.seed() ব্যবহার করে reproducible ডেটাসেট তৈরি করুন। X ও y জেনারেট করুন।"
   ]
  },
  {
   "cell_type": "code",
   "execution_count": null,
   "id": "04e49901",
   "metadata": {},
   "outputs": [],
   "source": [
    "# ডামি ডেটাসেট তৈরি\n",
    "np.random.seed(0)\n",
    "X = 2 * np.random.rand(100, 1)\n",
    "y = 4 + 3 * X + np.random.randn(100, 1)"
   ]
  },
  {
   "cell_type": "markdown",
   "id": "71ade754",
   "metadata": {},
   "source": [
    "## ৩. ট্রেইন-টেস্ট স্প্লিট\n",
    "\n",
    "train_test_split() ব্যবহার করে ডেটাসেটকে ট্রেইন ও টেস্ট সেটে ভাগ করুন।"
   ]
  },
  {
   "cell_type": "code",
   "execution_count": null,
   "id": "b7ab08cf",
   "metadata": {},
   "outputs": [],
   "source": [
    "# ট্রেইন-টেস্ট স্প্লিট\n",
    "X_train, X_test, y_train, y_test = train_test_split(X, y, test_size=0.2, random_state=42)"
   ]
  },
  {
   "cell_type": "markdown",
   "id": "86fcfef5",
   "metadata": {},
   "source": [
    "## ৪. রিজ রিগ্রেশন মডেল তৈরি ও ট্রেইনিং\n",
    "\n",
    "Ridge() ক্লাস ব্যবহার করে রিজ রিগ্রেশন মডেল তৈরি ও fit() দিয়ে ট্রেইন করুন।"
   ]
  },
  {
   "cell_type": "code",
   "execution_count": null,
   "id": "11749025",
   "metadata": {},
   "outputs": [],
   "source": [
    "# রিজ রিগ্রেশন মডেল তৈরি ও ট্রেইনিং\n",
    "ridge_reg = Ridge(alpha=1.0)\n",
    "ridge_reg.fit(X_train, y_train)"
   ]
  },
  {
   "cell_type": "markdown",
   "id": "5dc002cd",
   "metadata": {},
   "source": [
    "## ৫. প্রেডিকশন\n",
    "\n",
    "predict() ব্যবহার করে টেস্ট সেটের জন্য y_pred বের করুন।"
   ]
  },
  {
   "cell_type": "code",
   "execution_count": null,
   "id": "bec4fd41",
   "metadata": {},
   "outputs": [],
   "source": [
    "# প্রেডিকশন\n",
    "y_pred = ridge_reg.predict(X_test)"
   ]
  },
  {
   "cell_type": "markdown",
   "id": "00418b8c",
   "metadata": {},
   "source": [
    "## ৬. ফলাফল মূল্যায়ন\n",
    "\n",
    "mean_squared_error() দিয়ে MSE হিসাব করুন এবং প্রিন্ট করুন।"
   ]
  },
  {
   "cell_type": "code",
   "execution_count": null,
   "id": "878b4e60",
   "metadata": {},
   "outputs": [],
   "source": [
    "# ফলাফল মূল্যায়ন\n",
    "mse = mean_squared_error(y_test, y_pred)\n",
    "print(\"Mean Squared Error:\", mse)"
   ]
  },
  {
   "cell_type": "markdown",
   "id": "c5cc159a",
   "metadata": {},
   "source": [
    "## ৭. মডেল কো-ইফিসিয়েন্ট ও ইন্টারসেপ্ট দেখানো\n",
    "\n",
    "মডেলের coef_ ও intercept_ প্রিন্ট করুন।"
   ]
  },
  {
   "cell_type": "code",
   "execution_count": null,
   "id": "1310315e",
   "metadata": {},
   "outputs": [],
   "source": [
    "# মডেল কো-ইফিসিয়েন্ট ও ইন্টারসেপ্ট\n",
    "print(\"Coefficient:\", ridge_reg.coef_)\n",
    "print(\"Intercept:\", ridge_reg.intercept_)"
   ]
  },
  {
   "cell_type": "markdown",
   "id": "1fd8c74b",
   "metadata": {},
   "source": [
    "## ৮. গ্রাফে ফলাফল প্রদর্শন\n",
    "\n",
    "matplotlib ব্যবহার করে Actual ও Predicted মানের গ্রাফ আঁকুন।"
   ]
  },
  {
   "cell_type": "code",
   "execution_count": null,
   "id": "a218e75a",
   "metadata": {},
   "outputs": [],
   "source": [
    "# গ্রাফে ফলাফল প্রদর্শন\n",
    "plt.scatter(X_test, y_test, color='blue', label='Actual')\n",
    "plt.plot(X_test, y_pred, color='red', label='Predicted')\n",
    "plt.title(\"Ridge Regression Result\")\n",
    "plt.xlabel(\"X\")\n",
    "plt.ylabel(\"y\")\n",
    "plt.legend()\n",
    "plt.show()"
   ]
  }
 ],
 "metadata": {
  "language_info": {
   "name": "python"
  }
 },
 "nbformat": 4,
 "nbformat_minor": 5
}
