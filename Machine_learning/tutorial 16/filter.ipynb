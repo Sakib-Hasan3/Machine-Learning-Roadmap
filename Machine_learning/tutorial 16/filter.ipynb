{
 "cells": [
  {
   "cell_type": "markdown",
   "id": "9e135390",
   "metadata": {},
   "source": [
    "# filter functions in python"
   ]
  },
  {
   "cell_type": "code",
   "execution_count": 6,
   "id": "7b1d463f",
   "metadata": {},
   "outputs": [
    {
     "name": "stdout",
     "output_type": "stream",
     "text": [
      "[2, 4, 6, 8]\n"
     ]
    }
   ],
   "source": [
    "number=[ 1,2,4,5,6,7,8]\n",
    "\n",
    "\n",
    "result = list(filter((lambda n: n%2 ==0),number))\n",
    "\n",
    "print(result)"
   ]
  },
  {
   "cell_type": "code",
   "execution_count": 7,
   "id": "9da94083",
   "metadata": {},
   "outputs": [
    {
     "name": "stdout",
     "output_type": "stream",
     "text": [
      "[2, 4, 6]\n"
     ]
    }
   ],
   "source": [
    "nums = [1, 2, 3, 4, 5, 6]\n",
    "\n",
    "even = list(filter(lambda x: x % 2 == 0, nums))\n",
    "\n",
    "print(even)\n"
   ]
  },
  {
   "cell_type": "markdown",
   "id": "644c9e2c",
   "metadata": {},
   "source": []
  },
  {
   "cell_type": "code",
   "execution_count": 8,
   "id": "8946ac32",
   "metadata": {},
   "outputs": [
    {
     "name": "stdout",
     "output_type": "stream",
     "text": [
      "[10, 20]\n"
     ]
    }
   ],
   "source": [
    "def is_even(n):\n",
    "    return n % 2 == 0\n",
    "\n",
    "nums = [10, 15, 20, 25]\n",
    "\n",
    "result = list(filter(is_even, nums))\n",
    "\n",
    "print(result)\n"
   ]
  },
  {
   "cell_type": "code",
   "execution_count": null,
   "id": "bfb40f59",
   "metadata": {},
   "outputs": [],
   "source": []
  }
 ],
 "metadata": {
  "kernelspec": {
   "display_name": "base",
   "language": "python",
   "name": "python3"
  },
  "language_info": {
   "codemirror_mode": {
    "name": "ipython",
    "version": 3
   },
   "file_extension": ".py",
   "mimetype": "text/x-python",
   "name": "python",
   "nbconvert_exporter": "python",
   "pygments_lexer": "ipython3",
   "version": "3.12.7"
  }
 },
 "nbformat": 4,
 "nbformat_minor": 5
}
