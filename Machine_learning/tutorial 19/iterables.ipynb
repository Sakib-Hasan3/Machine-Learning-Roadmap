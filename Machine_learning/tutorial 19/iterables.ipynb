{
 "cells": [
  {
   "cell_type": "markdown",
   "id": "9d269317",
   "metadata": {},
   "source": [
    "# Python Iterables vs Iterators"
   ]
  },
  {
   "cell_type": "code",
   "execution_count": 1,
   "id": "25087f5e",
   "metadata": {},
   "outputs": [
    {
     "name": "stdout",
     "output_type": "stream",
     "text": [
      "1\n",
      "2\n",
      "3\n",
      "4\n",
      "5\n",
      "6\n"
     ]
    }
   ],
   "source": [
    "# list in iterable\n",
    "\n",
    "lst=[1,2,3,4,5,6]\n",
    "\n",
    "for i in lst:\n",
    "    print(i)"
   ]
  },
  {
   "cell_type": "code",
   "execution_count": 5,
   "id": "66eb1f4a",
   "metadata": {},
   "outputs": [
    {
     "data": {
      "text/plain": [
       "<list_iterator at 0x1a18ef0faf0>"
      ]
     },
     "execution_count": 5,
     "metadata": {},
     "output_type": "execute_result"
    }
   ],
   "source": [
    "lst1=iter(lst)\n",
    "lst1"
   ]
  },
  {
   "cell_type": "markdown",
   "id": "2c77c513",
   "metadata": {},
   "source": []
  },
  {
   "cell_type": "code",
   "execution_count": 6,
   "id": "bd8c9281",
   "metadata": {},
   "outputs": [
    {
     "data": {
      "text/plain": [
       "1"
      ]
     },
     "execution_count": 6,
     "metadata": {},
     "output_type": "execute_result"
    }
   ],
   "source": [
    "next(lst1)  # Get the next item from the iterator"
   ]
  },
  {
   "cell_type": "code",
   "execution_count": 7,
   "id": "f1a2916e",
   "metadata": {},
   "outputs": [
    {
     "name": "stdout",
     "output_type": "stream",
     "text": [
      "2\n",
      "3\n",
      "4\n",
      "5\n",
      "6\n"
     ]
    }
   ],
   "source": [
    " for i in lst1:\n",
    "     print(i)"
   ]
  },
  {
   "cell_type": "code",
   "execution_count": 8,
   "id": "e7ca9c0b",
   "metadata": {},
   "outputs": [
    {
     "name": "stdout",
     "output_type": "stream",
     "text": [
      "10\n",
      "20\n",
      "30\n"
     ]
    }
   ],
   "source": [
    "# iterator\n",
    "\n",
    "my_list = [10, 20, 30]\n",
    "\n",
    "my_iter = iter(my_list)  # list থেকে iterator বানানো\n",
    "\n",
    "print(next(my_iter))  # 10\n",
    "print(next(my_iter))  # 20\n",
    "print(next(my_iter))  # 30\n",
    "\n"
   ]
  },
  {
   "cell_type": "code",
   "execution_count": null,
   "id": "62e601d1",
   "metadata": {},
   "outputs": [],
   "source": []
  }
 ],
 "metadata": {
  "kernelspec": {
   "display_name": "base",
   "language": "python",
   "name": "python3"
  },
  "language_info": {
   "codemirror_mode": {
    "name": "ipython",
    "version": 3
   },
   "file_extension": ".py",
   "mimetype": "text/x-python",
   "name": "python",
   "nbconvert_exporter": "python",
   "pygments_lexer": "ipython3",
   "version": "3.12.7"
  }
 },
 "nbformat": 4,
 "nbformat_minor": 5
}
