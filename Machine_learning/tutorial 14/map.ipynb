{
 "cells": [
  {
   "cell_type": "markdown",
   "id": "b5e3b79f",
   "metadata": {},
   "source": [
    "# map function"
   ]
  },
  {
   "cell_type": "code",
   "execution_count": 4,
   "metadata": {},
   "outputs": [
    {
     "name": "stdout",
     "output_type": "stream",
     "text": [
      "[15, 20, 25, 30, 35, 40]\n"
     ]
    }
   ],
   "source": [
    "def mul_five_times(number):\n",
    "    return number * 5\n",
    "\n",
    "result = []\n",
    "num = [3, 4, 5, 6, 7, 8]\n",
    "\n",
    "for i in num:\n",
    "    result.append(mul_five_times(i))\n",
    "\n",
    "print(result)\n"
   ]
  },
  {
   "cell_type": "code",
   "execution_count": 5,
   "id": "05131a03",
   "metadata": {},
   "outputs": [
    {
     "name": "stdout",
     "output_type": "stream",
     "text": [
      "[15, 20, 25, 30, 35, 40]\n"
     ]
    }
   ],
   "source": [
    "def mul_five_times(number):\n",
    "    return number * 5\n",
    "\n",
    "num = [3, 4, 5, 6, 7, 8]\n",
    "mapped_result = list(map(mul_five_times, num))\n",
    "print(mapped_result)"
   ]
  },
  {
   "cell_type": "markdown",
   "id": "0852623d",
   "metadata": {},
   "source": []
  }
 ],
 "metadata": {
  "kernelspec": {
   "display_name": "base",
   "language": "python",
   "name": "python3"
  },
  "language_info": {
   "codemirror_mode": {
    "name": "ipython",
    "version": 3
   },
   "file_extension": ".py",
   "mimetype": "text/x-python",
   "name": "python",
   "nbconvert_exporter": "python",
   "pygments_lexer": "ipython3",
   "version": "3.12.7"
  }
 },
 "nbformat": 4,
 "nbformat_minor": 5
}
