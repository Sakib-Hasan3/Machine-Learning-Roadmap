
{
 "cells": [
  {
   "cell_type": "markdown",
   "id": "87a72b39",
   "metadata": {},
   "source": [
    "# advance python string"
   ]
  },
  {
   "cell_type": "code",
   "execution_count": 1,
   "id": "8e81c183",
   "metadata": {},
   "outputs": [
    {
     "name": "stdout",
     "output_type": "stream",
     "text": [
      "my name is sakib and I am 23 years old\n"
     ]
    }
   ],
   "source": [
    "name = \"sakib\"\n",
    "age= \"23\"\n",
    "\n",
    "result = \"my name is {} and I am {} years old\" .format(name,age)\n",
    "print(result)"
   ]
  },
  {
   "cell_type": "markdown",
   "id": "5664c9a3",
   "metadata": {},
   "source": []
  },
  {
   "cell_type": "code",
   "execution_count": 2,
   "id": "175e8d69",
   "metadata": {},
   "outputs": [
    {
     "name": "stdout",
     "output_type": "stream",
     "text": [
      " Hello sakib , your age is 23 and your name is sakib\n"
     ]
    }
   ],
   "source": [
    "# postional \n",
    "\n",
    "print(\" Hello {0} , your age is {1} and your name is {0}\".format(name,age))"
   ]
  },
  {
   "cell_type": "code",
   "execution_count": 3,
   "id": "2a651300",
   "metadata": {},
   "outputs": [
    {
     "name": "stdout",
     "output_type": "stream",
     "text": [
      "Name : sakib ,Age : 23\n"
     ]
    }
   ],
   "source": [
    "# keyworD\n",
    "\n",
    "print( \"Name : {name} ,Age : {age}\".format(name=name, age=age))"
   ]
  },
  {
   "cell_type": "code",
   "execution_count": 4,
   "id": "7e0bdb89",
   "metadata": {},
   "outputs": [
    {
     "name": "stdout",
     "output_type": "stream",
     "text": [
      "Left      \n",
      "     Right\n",
      "  Center  \n"
     ]
    }
   ],
   "source": [
    "# ^ = center, < = left, > = right\n",
    "\n",
    "print(\"{:<10}\".format(\"Left\"))    # Left aligned\n",
    "print(\"{:>10}\".format(\"Right\"))   # Right aligned\n",
    "print(\"{:^10}\".format(\"Center\"))  # Center aligned\n"
   ]
  },
  {
   "cell_type": "code",
   "execution_count": 5,
   "id": "17f0aafa",
   "metadata": {},
   "outputs": [
    {
     "name": "stdout",
     "output_type": "stream",
     "text": [
      "Pi value is 3.14\n",
      "Pi value is 3.1416\n"
     ]
    }
   ],
   "source": [
    "# float number precision control\n",
    "\n",
    "pi=3.141592653589793\n",
    "print(\"Pi value is {:.2f}\".format(pi))  # 2 decimal places\n",
    "print(\"Pi value is {:.4f}\".format(pi))  # 4 decimal places"
   ]
  },
  {
   "cell_type": "code",
   "execution_count": 6,
   "id": "df9e6000",
   "metadata": {},
   "outputs": [
    {
     "name": "stdout",
     "output_type": "stream",
     "text": [
      "Number: 005\n"
     ]
    }
   ],
   "source": [
    "# number leading zeors\n",
    "num = 5\n",
    "\n",
    "print(\"Number: {:03}\".format(num))  \n"
   ]
  },
  {
   "cell_type": "code",
   "execution_count": 7,
   "id": "52f90b5d",
   "metadata": {},
   "outputs": [
    {
     "name": "stdout",
     "output_type": "stream",
     "text": [
      "Amount: $1234.57\n"
     ]
    }
   ],
   "source": [
    "# currency formatting\n",
    "amount = 1234.5678\n",
    "print(\"Amount: ${:.2f}\".format(amount))  # $1234.57"
   ]
  },
  {
   "cell_type": "code",
   "execution_count": 8,
   "id": "60f0f23a",
   "metadata": {},
   "outputs": [
    {
     "name": "stdout",
     "output_type": "stream",
     "text": [
      "Student Hasan scored 95.7 marks.\n"
     ]
    }
   ],
   "source": [
    "# f string\n",
    "\n",
    "name = \"Hasan\"\n",
    "score = 95.6789\n",
    "\n",
    "print(f\"Student {name} scored {score:.1f} marks.\")"
   ]
  },
  {
   "cell_type": "code",
   "execution_count": 9,
   "id": "cdd9978c",
   "metadata": {},
   "outputs": [
    {
     "name": "stdout",
     "output_type": "stream",
     "text": [
      "Sum of 10 and 5 is 15.\n"
     ]
    }
   ],
   "source": [
    "# expressions in f-strings\n",
    "x = 10\n",
    "y = 5\n",
    "\n",
    "print(f\"Sum of {x} and {y} is {x + y}.\")  # Sum of 10 and 5 is 15."
   ]
  },
  {
   "cell_type": "code",
   "execution_count": 10,
   "id": "0f748922",
   "metadata": {},
   "outputs": [
    {
     "name": "stdout",
     "output_type": "stream",
     "text": [
      "Today's date is 2025-07-14.\n"
     ]
    }
   ],
   "source": [
    "# date formatting\n",
    "\n",
    "from datetime import datetime\n",
    "today = datetime.now()\n",
    "print(f\"Today's date is {today:%Y-%m-%d}.\")  # Today's date is 2023-10-01.\n",
    "\n"
   ]
  },
  {
   "cell_type": "code",
   "execution_count": null,
   "id": "18fc662f",
   "metadata": {},
   "outputs": [],
   "source": []
  }
 ],
 "metadata": {
  "kernelspec": {
   "display_name": "base",
   "language": "python",
   "name": "python3"
  },
  "language_info": {
   "codemirror_mode": {
    "name": "ipython",
    "version": 3
   },
   "file_extension": ".py",
   "mimetype": "text/x-python",
   "name": "python",
   "nbconvert_exporter": "python",
   "pygments_lexer": "ipython3",
   "version": "3.12.7"
  }
 },
 "nbformat": 4,
 "nbformat_minor": 5
}
