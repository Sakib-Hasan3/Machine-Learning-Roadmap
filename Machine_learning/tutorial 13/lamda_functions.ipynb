{
 "cells": [
  {
   "cell_type": "markdown",
   "id": "01c414c0",
   "metadata": {},
   "source": [
    "# Lamda Functions"
   ]
  },
  {
   "cell_type": "code",
   "execution_count": 1,
   "id": "899d6fe8",
   "metadata": {},
   "outputs": [],
   "source": [
    "def calculate(a,b):\n",
    "    return a+b;"
   ]
  },
  {
   "cell_type": "code",
   "execution_count": 2,
   "id": "c1f31c92",
   "metadata": {},
   "outputs": [
    {
     "name": "stdout",
     "output_type": "stream",
     "text": [
      "7\n"
     ]
    }
   ],
   "source": [
    "calculate(3,4)\n",
    "print(calculate(3,4))"
   ]
  },
  {
   "cell_type": "code",
   "execution_count": 5,
   "id": "dfd69685",
   "metadata": {},
   "outputs": [
    {
     "data": {
      "text/plain": [
       "5"
      ]
     },
     "execution_count": 5,
     "metadata": {},
     "output_type": "execute_result"
    }
   ],
   "source": [
    "# lamda parameter: expression\n",
    "\n",
    "# Lamda functions are anonymous functions defined with the `lambda` keyword. They can take any number of arguments but only have one expression. The syntax is:\n",
    "\n",
    "\n",
    "(lambda a, b: a + b)(2, 3)\n"
   ]
  },
  {
   "cell_type": "code",
   "execution_count": 6,
   "id": "609a9ad5",
   "metadata": {},
   "outputs": [
    {
     "name": "stdout",
     "output_type": "stream",
     "text": [
      "16\n"
     ]
    }
   ],
   "source": [
    "square = lambda x: x ** 2\n",
    "print(square(4))  \n"
   ]
  },
  {
   "cell_type": "code",
   "execution_count": 7,
   "id": "6ea5a39c",
   "metadata": {},
   "outputs": [
    {
     "name": "stdout",
     "output_type": "stream",
     "text": [
      "10\n"
     ]
    }
   ],
   "source": [
    "maximum = lambda a, b: a if a > b else b\n",
    "print(maximum(10, 7))  # Output: 10\n"
   ]
  },
  {
   "cell_type": "code",
   "execution_count": 11,
   "id": "939ee661",
   "metadata": {},
   "outputs": [
    {
     "name": "stdout",
     "output_type": "stream",
     "text": [
      "7\n"
     ]
    }
   ],
   "source": [
    "add = (lambda a,b: a+b) (3,4)\n",
    "print(add)"
   ]
  },
  {
   "cell_type": "code",
   "execution_count": 12,
   "id": "81dc8d99",
   "metadata": {},
   "outputs": [
    {
     "name": "stdout",
     "output_type": "stream",
     "text": [
      "20\n"
     ]
    }
   ],
   "source": [
    "maximum = lambda a, b: a if a > b else b\n",
    "print(maximum(10, 20))  # Output: 20\n"
   ]
  },
  {
   "cell_type": "code",
   "execution_count": 13,
   "id": "ed3e227a",
   "metadata": {},
   "outputs": [
    {
     "name": "stdout",
     "output_type": "stream",
     "text": [
      "[1, 4, 9, 16, 25]\n"
     ]
    }
   ],
   "source": [
    "lst = [1, 2, 3, 4, 5]\n",
    "squares = list(map(lambda x: x ** 2, lst))\n",
    "print(squares)  # Output: [1, 4, 9, 16, 25]\n"
   ]
  },
  {
   "cell_type": "code",
   "execution_count": null,
   "id": "6d3b244d",
   "metadata": {},
   "outputs": [
    {
     "name": "stdout",
     "output_type": "stream",
     "text": [
      "[2, 4, 6]\n"
     ]
    }
   ],
   "source": [
    "numbers = [1, 2, 3, 4, 5, 6]\n",
    "evens = list(filter(lambda x: x % 2 == 0, numbers))\n",
    "print(evens)  \n",
    "\n"
   ]
  },
  {
   "cell_type": "code",
   "execution_count": 17,
   "id": "f743c5d3",
   "metadata": {},
   "outputs": [
    {
     "name": "stdout",
     "output_type": "stream",
     "text": [
      "['Afif', 'Sakib', 'Tamim', 'Mushfiq']\n"
     ]
    }
   ],
   "source": [
    "names = ['Sakib', 'Tamim', 'Afif', 'Mushfiq']\n",
    "sorted_names = sorted(names, key=lambda x: len(x))\n",
    "print(sorted_names)  # Output: ['Afif', 'Sakib', 'Tamim', 'Mushfiq']\n"
   ]
  },
  {
   "cell_type": "code",
   "execution_count": 18,
   "id": "24cedf67",
   "metadata": {},
   "outputs": [
    {
     "name": "stdout",
     "output_type": "stream",
     "text": [
      "[{'name': 'Tamim', 'age': 19}, {'name': 'Sakib', 'age': 22}, {'name': 'Mushfiq', 'age': 25}]\n"
     ]
    }
   ],
   "source": [
    "students = [\n",
    "    {'name': 'Sakib', 'age': 22},\n",
    "    {'name': 'Tamim', 'age': 19},\n",
    "    {'name': 'Mushfiq', 'age': 25}\n",
    "]\n",
    "\n",
    "sorted_students = sorted(students, key=lambda x: x['age'])\n",
    "print(sorted_students)\n"
   ]
  },
  {
   "cell_type": "code",
   "execution_count": null,
   "id": "5b5352bb",
   "metadata": {},
   "outputs": [],
   "source": []
  }
 ],
 "metadata": {
  "kernelspec": {
   "display_name": "base",
   "language": "python",
   "name": "python3"
  },
  "language_info": {
   "codemirror_mode": {
    "name": "ipython",
    "version": 3
   },
   "file_extension": ".py",
   "mimetype": "text/x-python",
   "name": "python",
   "nbconvert_exporter": "python",
   "pygments_lexer": "ipython3",
   "version": "3.12.7"
  }
 },
 "nbformat": 4,
 "nbformat_minor": 5
}
