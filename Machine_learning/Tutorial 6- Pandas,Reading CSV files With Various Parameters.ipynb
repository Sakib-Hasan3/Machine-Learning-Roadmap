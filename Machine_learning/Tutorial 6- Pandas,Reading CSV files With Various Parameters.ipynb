{
 "cells": [
  {
   "cell_type": "markdown",
   "id": "65c8d7ce-5984-4cbe-960e-f7fd854918cc",
   "metadata": {},
   "source": [
    "# pandas Reading csv files"
   ]
  },
  {
   "cell_type": "code",
   "execution_count": null,
   "id": "5f075cc5-8a71-4c78-8a85-eff7b9cbaa37",
   "metadata": {},
   "outputs": [],
   "source": []
  },
  {
   "cell_type": "code",
   "execution_count": 6,
   "id": "5781c5ee-5441-4bb0-856b-f822c97228c1",
   "metadata": {},
   "outputs": [
    {
     "name": "stdout",
     "output_type": "stream",
     "text": [
      "   ID     Name  Age   Department    JoinDate  Salary\n",
      "0   1    Alice   28  Engineering  2020-01-15   70000\n",
      "1   2      Bob   34    Marketing  2018-03-22   65000\n",
      "2   3  Charlie   25        Sales  2021-07-01   50000\n",
      "3   4    Diana   30  Engineering  2019-10-12   72000\n",
      "4   5    Ethan   29           HR  2022-02-20   48000\n",
      "5   6    Farah   26    Marketing  2023-05-05   51000\n",
      "6   7   George   35        Sales  2017-08-10   68000\n",
      "7   8     Huda   32           HR  2021-11-11   53000\n",
      "8   9     Ivan   27  Engineering  2022-06-18   69000\n",
      "9  10    Jenny   31    Marketing  2020-09-30   60000\n"
     ]
    }
   ],
   "source": [
    "import pandas as pd\n",
    "df = pd.read_csv('data.csv')\n",
    "print(df)\n",
    "\n"
   ]
  },
  {
   "cell_type": "code",
   "execution_count": 11,
   "id": "4fa32a1c-9e49-4204-8659-8fa449837264",
   "metadata": {},
   "outputs": [
    {
     "data": {
      "text/html": [
       "<div>\n",
       "<style scoped>\n",
       "    .dataframe tbody tr th:only-of-type {\n",
       "        vertical-align: middle;\n",
       "    }\n",
       "\n",
       "    .dataframe tbody tr th {\n",
       "        vertical-align: top;\n",
       "    }\n",
       "\n",
       "    .dataframe thead th {\n",
       "        text-align: right;\n",
       "    }\n",
       "</style>\n",
       "<table border=\"1\" class=\"dataframe\">\n",
       "  <thead>\n",
       "    <tr style=\"text-align: right;\">\n",
       "      <th></th>\n",
       "      <th>ID</th>\n",
       "      <th>Name</th>\n",
       "      <th>Age</th>\n",
       "      <th>Department</th>\n",
       "      <th>JoinDate</th>\n",
       "      <th>Salary</th>\n",
       "    </tr>\n",
       "  </thead>\n",
       "  <tbody>\n",
       "    <tr>\n",
       "      <th>0</th>\n",
       "      <td>1</td>\n",
       "      <td>Alice</td>\n",
       "      <td>28</td>\n",
       "      <td>Engineering</td>\n",
       "      <td>2020-01-15</td>\n",
       "      <td>70000</td>\n",
       "    </tr>\n",
       "    <tr>\n",
       "      <th>1</th>\n",
       "      <td>2</td>\n",
       "      <td>Bob</td>\n",
       "      <td>34</td>\n",
       "      <td>Marketing</td>\n",
       "      <td>2018-03-22</td>\n",
       "      <td>65000</td>\n",
       "    </tr>\n",
       "    <tr>\n",
       "      <th>2</th>\n",
       "      <td>3</td>\n",
       "      <td>Charlie</td>\n",
       "      <td>25</td>\n",
       "      <td>Sales</td>\n",
       "      <td>2021-07-01</td>\n",
       "      <td>50000</td>\n",
       "    </tr>\n",
       "    <tr>\n",
       "      <th>3</th>\n",
       "      <td>4</td>\n",
       "      <td>Diana</td>\n",
       "      <td>30</td>\n",
       "      <td>Engineering</td>\n",
       "      <td>2019-10-12</td>\n",
       "      <td>72000</td>\n",
       "    </tr>\n",
       "    <tr>\n",
       "      <th>4</th>\n",
       "      <td>5</td>\n",
       "      <td>Ethan</td>\n",
       "      <td>29</td>\n",
       "      <td>HR</td>\n",
       "      <td>2022-02-20</td>\n",
       "      <td>48000</td>\n",
       "    </tr>\n",
       "  </tbody>\n",
       "</table>\n",
       "</div>"
      ],
      "text/plain": [
       "   ID     Name  Age   Department    JoinDate  Salary\n",
       "0   1    Alice   28  Engineering  2020-01-15   70000\n",
       "1   2      Bob   34    Marketing  2018-03-22   65000\n",
       "2   3  Charlie   25        Sales  2021-07-01   50000\n",
       "3   4    Diana   30  Engineering  2019-10-12   72000\n",
       "4   5    Ethan   29           HR  2022-02-20   48000"
      ]
     },
     "execution_count": 11,
     "metadata": {},
     "output_type": "execute_result"
    }
   ],
   "source": [
    "df.head()"
   ]
  },
  {
   "cell_type": "code",
   "execution_count": 12,
   "id": "ea38f18e-6a20-4a51-937b-174831404c94",
   "metadata": {},
   "outputs": [
    {
     "name": "stdout",
     "output_type": "stream",
     "text": [
      "<class 'pandas.core.frame.DataFrame'>\n",
      "RangeIndex: 10 entries, 0 to 9\n",
      "Data columns (total 6 columns):\n",
      " #   Column      Non-Null Count  Dtype \n",
      "---  ------      --------------  ----- \n",
      " 0   ID          10 non-null     int64 \n",
      " 1   Name        10 non-null     object\n",
      " 2   Age         10 non-null     int64 \n",
      " 3   Department  10 non-null     object\n",
      " 4   JoinDate    10 non-null     object\n",
      " 5   Salary      10 non-null     int64 \n",
      "dtypes: int64(3), object(3)\n",
      "memory usage: 612.0+ bytes\n"
     ]
    }
   ],
   "source": [
    "df.info()"
   ]
  },
  {
   "cell_type": "code",
   "execution_count": 5,
   "id": "3986b276-2b0d-40d0-8a7a-83be75cbc86a",
   "metadata": {},
   "outputs": [
    {
     "name": "stdout",
     "output_type": "stream",
     "text": [
      "   ID     Name  Age   Department    JoinDate  Salary\n",
      "0   1    Alice   28  Engineering  2020-01-15   70000\n",
      "1   2      Bob   34    Marketing  2018-03-22   65000\n",
      "2   3  Charlie   25        Sales  2021-07-01   50000\n",
      "3   4    Diana   30  Engineering  2019-10-12   72000\n",
      "4   5    Ethan   29           HR  2022-02-20   48000\n"
     ]
    }
   ],
   "source": [
    "import pandas as pd\n",
    "\n",
    "df = pd.read_csv(r\"C:\\Users\\Pacific BD\\OneDrive\\Machine_learning\\data.csv\")\n",
    "print(df.head())\n"
   ]
  },
  {
   "cell_type": "code",
   "execution_count": 8,
   "id": "36317fd3-4680-4eaf-bfcd-615dbb949f66",
   "metadata": {},
   "outputs": [
    {
     "data": {
      "text/plain": [
       "ID\n",
       "1     1\n",
       "2     1\n",
       "3     1\n",
       "4     1\n",
       "5     1\n",
       "6     1\n",
       "7     1\n",
       "8     1\n",
       "9     1\n",
       "10    1\n",
       "Name: count, dtype: int64"
      ]
     },
     "execution_count": 8,
     "metadata": {},
     "output_type": "execute_result"
    }
   ],
   "source": [
    "\n",
    "\n",
    "#get the unique category counts\n",
    "\n",
    "df['ID'].value_counts()\n",
    "\n"
   ]
  },
  {
   "cell_type": "code",
   "execution_count": 9,
   "id": "6cee3f42-76dc-4ee2-b2c7-43ffc42a2d29",
   "metadata": {},
   "outputs": [
    {
     "name": "stdout",
     "output_type": "stream",
     "text": [
      "Index(['ID', 'Name', 'Age', 'Department', 'JoinDate', 'Salary'], dtype='object')\n"
     ]
    }
   ],
   "source": [
    "print(df.columns)\n"
   ]
  },
  {
   "cell_type": "code",
   "execution_count": 10,
   "id": "8aef647e-5715-4c52-9024-fd3648d745af",
   "metadata": {},
   "outputs": [
    {
     "data": {
      "text/plain": [
       "Department\n",
       "Engineering    3\n",
       "Marketing      3\n",
       "Sales          2\n",
       "HR             2\n",
       "Name: count, dtype: int64"
      ]
     },
     "execution_count": 10,
     "metadata": {},
     "output_type": "execute_result"
    }
   ],
   "source": [
    "#Count how many employees in each department:\n",
    "\n",
    "df['Department'].value_counts()\n"
   ]
  },
  {
   "cell_type": "code",
   "execution_count": 11,
   "id": "0834863d-af91-4442-969c-23e5c0bd642d",
   "metadata": {},
   "outputs": [
    {
     "data": {
      "text/plain": [
       "29.7"
      ]
     },
     "execution_count": 11,
     "metadata": {},
     "output_type": "execute_result"
    }
   ],
   "source": [
    "#Average age of employees:\n",
    "df['Age'].mean()\n"
   ]
  },
  {
   "cell_type": "code",
   "execution_count": 12,
   "id": "566ccea9-6b89-4a34-a01f-b1e588494e3b",
   "metadata": {},
   "outputs": [
    {
     "data": {
      "text/plain": [
       "72000"
      ]
     },
     "execution_count": 12,
     "metadata": {},
     "output_type": "execute_result"
    }
   ],
   "source": [
    "#Highest salary:\n",
    "df['Salary'].max()\n"
   ]
  },
  {
   "cell_type": "code",
   "execution_count": 13,
   "id": "09e15a38-2140-46a5-8158-2367b86eae57",
   "metadata": {},
   "outputs": [
    {
     "data": {
      "text/html": [
       "<div>\n",
       "<style scoped>\n",
       "    .dataframe tbody tr th:only-of-type {\n",
       "        vertical-align: middle;\n",
       "    }\n",
       "\n",
       "    .dataframe tbody tr th {\n",
       "        vertical-align: top;\n",
       "    }\n",
       "\n",
       "    .dataframe thead th {\n",
       "        text-align: right;\n",
       "    }\n",
       "</style>\n",
       "<table border=\"1\" class=\"dataframe\">\n",
       "  <thead>\n",
       "    <tr style=\"text-align: right;\">\n",
       "      <th></th>\n",
       "      <th>ID</th>\n",
       "      <th>Name</th>\n",
       "      <th>Age</th>\n",
       "      <th>Department</th>\n",
       "      <th>JoinDate</th>\n",
       "      <th>Salary</th>\n",
       "    </tr>\n",
       "  </thead>\n",
       "  <tbody>\n",
       "    <tr>\n",
       "      <th>0</th>\n",
       "      <td>1</td>\n",
       "      <td>Alice</td>\n",
       "      <td>28</td>\n",
       "      <td>Engineering</td>\n",
       "      <td>2020-01-15</td>\n",
       "      <td>70000</td>\n",
       "    </tr>\n",
       "    <tr>\n",
       "      <th>1</th>\n",
       "      <td>2</td>\n",
       "      <td>Bob</td>\n",
       "      <td>34</td>\n",
       "      <td>Marketing</td>\n",
       "      <td>2018-03-22</td>\n",
       "      <td>65000</td>\n",
       "    </tr>\n",
       "    <tr>\n",
       "      <th>3</th>\n",
       "      <td>4</td>\n",
       "      <td>Diana</td>\n",
       "      <td>30</td>\n",
       "      <td>Engineering</td>\n",
       "      <td>2019-10-12</td>\n",
       "      <td>72000</td>\n",
       "    </tr>\n",
       "    <tr>\n",
       "      <th>6</th>\n",
       "      <td>7</td>\n",
       "      <td>George</td>\n",
       "      <td>35</td>\n",
       "      <td>Sales</td>\n",
       "      <td>2017-08-10</td>\n",
       "      <td>68000</td>\n",
       "    </tr>\n",
       "    <tr>\n",
       "      <th>8</th>\n",
       "      <td>9</td>\n",
       "      <td>Ivan</td>\n",
       "      <td>27</td>\n",
       "      <td>Engineering</td>\n",
       "      <td>2022-06-18</td>\n",
       "      <td>69000</td>\n",
       "    </tr>\n",
       "  </tbody>\n",
       "</table>\n",
       "</div>"
      ],
      "text/plain": [
       "   ID    Name  Age   Department    JoinDate  Salary\n",
       "0   1   Alice   28  Engineering  2020-01-15   70000\n",
       "1   2     Bob   34    Marketing  2018-03-22   65000\n",
       "3   4   Diana   30  Engineering  2019-10-12   72000\n",
       "6   7  George   35        Sales  2017-08-10   68000\n",
       "8   9    Ivan   27  Engineering  2022-06-18   69000"
      ]
     },
     "execution_count": 13,
     "metadata": {},
     "output_type": "execute_result"
    }
   ],
   "source": [
    "#Show rows where Salary > 60000:\n",
    "\n",
    "df[df['Salary'] > 60000]\n"
   ]
  },
  {
   "cell_type": "code",
   "execution_count": 16,
   "id": "67427c33-0949-425b-9388-917aa76b420e",
   "metadata": {},
   "outputs": [
    {
     "name": "stdout",
     "output_type": "stream",
     "text": [
      "              ID       Age    Salary\n",
      "ID      1.000000  0.137552 -0.110068\n",
      "Age     0.137552  1.000000  0.352591\n",
      "Salary -0.110068  0.352591  1.000000\n"
     ]
    }
   ],
   "source": [
    "#computes the pairwise correlation between columns\n",
    "\n",
    "corr_matrix = df.corr(numeric_only=True)\n",
    "print(corr_matrix)\n"
   ]
  },
  {
   "cell_type": "code",
   "execution_count": 19,
   "id": "a95c3f01-722e-4626-b141-557eb0773d45",
   "metadata": {},
   "outputs": [
    {
     "name": "stdout",
     "output_type": "stream",
     "text": [
      "Department\n",
      "Engineering    70333.333333\n",
      "HR             50500.000000\n",
      "Marketing      58666.666667\n",
      "Sales          59000.000000\n",
      "Name: Salary, dtype: float64\n"
     ]
    }
   ],
   "source": [
    "#Average salary per department\n",
    "avg_salary = df.groupby('Department')['Salary'].mean()\n",
    "print(avg_salary)"
   ]
  },
  {
   "cell_type": "code",
   "execution_count": 21,
   "id": "4d23fe9d-fe40-42fd-9979-647b81ed7959",
   "metadata": {},
   "outputs": [
    {
     "name": "stdout",
     "output_type": "stream",
     "text": [
      "   ID     Name  Age   Department    JoinDate  Salary\n",
      "0   1    Alice   28  Engineering  2020-01-15   70000\n",
      "1   2      Bob   34    Marketing  2018-03-22   65000\n",
      "2   3  Charlie   25        Sales  2021-07-01   50000\n",
      "3   4    Diana   30  Engineering  2019-10-12   72000\n",
      "4   5    Ethan   29           HR  2022-02-20   48000\n",
      "5   6    Farah   26    Marketing  2023-05-05   51000\n",
      "6   7   George   35        Sales  2017-08-10   68000\n",
      "7   8     Huda   32           HR  2021-11-11   53000\n",
      "8   9     Ivan   27  Engineering  2022-06-18   69000\n",
      "9  10    Jenny   31    Marketing  2020-09-30   60000\n"
     ]
    }
   ],
   "source": [
    "#ডেটাফ্রেমে যত খালি বা NaN (Not a Number) আছে, সবকিছু 0 দিয়ে পূরণ করে।\n",
    "df_filled = df.fillna(0)\n",
    "print(df_filled)\n"
   ]
  },
  {
   "cell_type": "code",
   "execution_count": 23,
   "id": "6b69b23b-ce41-4a61-866b-9356819dcc90",
   "metadata": {},
   "outputs": [
    {
     "name": "stdout",
     "output_type": "stream",
     "text": [
      "   ID     Name  Age   Department    JoinDate  Salary\n",
      "0   1    Alice   28  Engineering  2020-01-15   70000\n",
      "1   2      Bob   34    Marketing  2018-03-22   65000\n",
      "2   3  Charlie   25        Sales  2021-07-01   50000\n",
      "3   4    Diana   30  Engineering  2019-10-12   72000\n",
      "4   5    Ethan   29           HR  2022-02-20   48000\n",
      "5   6    Farah   26    Marketing  2023-05-05   51000\n",
      "6   7   George   35        Sales  2017-08-10   68000\n",
      "7   8     Huda   32           HR  2021-11-11   53000\n",
      "8   9     Ivan   27  Engineering  2022-06-18   69000\n",
      "9  10    Jenny   31    Marketing  2020-09-30   60000\n"
     ]
    }
   ],
   "source": [
    "# যেসব সারিতে খালি মান আছে, সেগুলো ডেটাফ্রেম থেকে পুরোপুরি মুছে ফেলে।\n",
    "df_dropped = df.dropna()\n",
    "print(df_dropped)\n",
    "\n"
   ]
  },
  {
   "cell_type": "code",
   "execution_count": 25,
   "id": "036f9435-1e09-47bd-a2b0-e8c5ec1d5e99",
   "metadata": {},
   "outputs": [
    {
     "name": "stdout",
     "output_type": "stream",
     "text": [
      "   ID     Name  Age   Department    JoinDate  Salary\n",
      "0   1    Alice   28  Engineering  2020-01-15   70000\n",
      "1   2      Bob   34    Marketing  2018-03-22   65000\n",
      "2   3  Charlie   25        Sales  2021-07-01   50000\n",
      "3   4    Diana   30  Engineering  2019-10-12   72000\n",
      "4   5    Ethan   29           HR  2022-02-20   48000\n",
      "5   6    Farah   26    Marketing  2023-05-05   51000\n",
      "6   7   George   35        Sales  2017-08-10   68000\n",
      "7   8     Huda   32           HR  2021-11-11   53000\n",
      "8   9     Ivan   27  Engineering  2022-06-18   69000\n",
      "9  10    Jenny   31    Marketing  2020-09-30   60000\n"
     ]
    }
   ],
   "source": [
    "#astype() ফাংশন দিয়ে একটি কলামের ডেটা টাইপ পরিবর্তন করা যায়।\n",
    "df['Age'] = df['Age'].astype(int)\n",
    "print(df)"
   ]
  },
  {
   "cell_type": "code",
   "execution_count": null,
   "id": "4d4a77da-5a40-4408-9f13-e36b91d55a20",
   "metadata": {},
   "outputs": [],
   "source": []
  }
 ],
 "metadata": {
  "kernelspec": {
   "display_name": "Python 3 (ipykernel)",
   "language": "python",
   "name": "python3"
  },
  "language_info": {
   "codemirror_mode": {
    "name": "ipython",
    "version": 3
   },
   "file_extension": ".py",
   "mimetype": "text/x-python",
   "name": "python",
   "nbconvert_exporter": "python",
   "pygments_lexer": "ipython3",
   "version": "3.12.7"
  }
 },
 "nbformat": 4,
 "nbformat_minor": 5
}
