{
 "cells": [
  {
   "cell_type": "markdown",
   "id": "080640a7-63bb-4a94-94d9-7c7696dd11ef",
   "metadata": {},
   "source": [
    "# Boolean variables"
   ]
  },
  {
   "cell_type": "code",
   "execution_count": 24,
   "id": "de9db06c-e8ef-4d8a-8794-467f056d275a",
   "metadata": {},
   "outputs": [
    {
     "data": {
      "text/plain": [
       "bool"
      ]
     },
     "execution_count": 24,
     "metadata": {},
     "output_type": "execute_result"
    }
   ],
   "source": [
    "# In Python, Boolean variables are variables that can hold one of two values: True or False\n",
    "\n",
    "type(True)"
   ]
  },
  {
   "cell_type": "code",
   "execution_count": 25,
   "id": "ec82b0be-5300-460c-9e02-d723f056a3a6",
   "metadata": {},
   "outputs": [
    {
     "data": {
      "text/plain": [
       "bool"
      ]
     },
     "execution_count": 25,
     "metadata": {},
     "output_type": "execute_result"
    }
   ],
   "source": [
    "type(False)"
   ]
  },
  {
   "cell_type": "code",
   "execution_count": 36,
   "id": "541f585d-9585-481c-ad2c-6dab851c492b",
   "metadata": {},
   "outputs": [
    {
     "name": "stdout",
     "output_type": "stream",
     "text": [
      "False\n"
     ]
    }
   ],
   "source": [
    "my_str=\"sakib hasan\"\n",
    " \n",
    "print(my_str.isalnum()) # The method isalnum() checks if all characters in the string are alphanumeric (letters and/or numbers), and the string is not empty.\n"
   ]
  },
  {
   "cell_type": "code",
   "execution_count": 38,
   "id": "e86398a0-c4c7-4e61-8654-1c968e07eafb",
   "metadata": {},
   "outputs": [
    {
     "name": "stdout",
     "output_type": "stream",
     "text": [
      "False\n"
     ]
    }
   ],
   "source": [
    "print(my_str.isalpha())  # isalpha() method checks if all characters in the string are alphabetic (A–Z or a–z) and the string is not empty.\n"
   ]
  },
  {
   "cell_type": "code",
   "execution_count": 39,
   "id": "c4dffd02-0a58-49c3-ab82-fc8c97e07d81",
   "metadata": {},
   "outputs": [
    {
     "name": "stdout",
     "output_type": "stream",
     "text": [
      "False\n"
     ]
    }
   ],
   "source": [
    "print(my_str.isdigit()) # isdigit() method checks if all characters in the string are digits (0–9) and the string is not empty."
   ]
  },
  {
   "cell_type": "code",
   "execution_count": 41,
   "id": "85d353d1-c079-4a11-8b2f-e721119ae70e",
   "metadata": {},
   "outputs": [
    {
     "name": "stdout",
     "output_type": "stream",
     "text": [
      "False\n"
     ]
    }
   ],
   "source": [
    "print(my_str.istitle()) #  istitle() method returns True if: The first character of each word is uppercase, and The rest of the characters are lowercase."
   ]
  },
  {
   "cell_type": "code",
   "execution_count": 42,
   "id": "d68698db-ee25-4f3e-afac-76484c02a536",
   "metadata": {},
   "outputs": [
    {
     "name": "stdout",
     "output_type": "stream",
     "text": [
      "False\n"
     ]
    }
   ],
   "source": [
    "print(my_str.isupper()) #isupper() method returns True if: All alphabetic characters are uppercase, and The string contains at least one letter\n"
   ]
  },
  {
   "cell_type": "code",
   "execution_count": 43,
   "id": "d0e42b7b-ef4a-4610-8b96-1132313416d3",
   "metadata": {},
   "outputs": [
    {
     "name": "stdout",
     "output_type": "stream",
     "text": [
      "True\n"
     ]
    }
   ],
   "source": [
    "print(my_str.islower())\n"
   ]
  },
  {
   "cell_type": "code",
   "execution_count": 45,
   "id": "532d2e86-1e16-4b35-a524-0d4e6f08695c",
   "metadata": {},
   "outputs": [
    {
     "name": "stdout",
     "output_type": "stream",
     "text": [
      "False\n"
     ]
    }
   ],
   "source": [
    "print(my_str.isspace()) # isspace() method returns True if: The string contains only whitespace characters (like spaces, tabs \\t, newlines \\n), andThe string is not empty."
   ]
  },
  {
   "cell_type": "code",
   "execution_count": 46,
   "id": "889e4c6b-1074-4ae5-b0ef-4be1203d71c0",
   "metadata": {},
   "outputs": [
    {
     "name": "stdout",
     "output_type": "stream",
     "text": [
      "False\n",
      "True\n"
     ]
    }
   ],
   "source": [
    "print(my_str.endswith('k'))\n",
    "print(my_str.startswith('s'))"
   ]
  },
  {
   "cell_type": "markdown",
   "id": "d85eb87a-0642-41bb-b2fa-4a875aa9261b",
   "metadata": {},
   "source": [
    "# boolean and logical operators"
   ]
  },
  {
   "cell_type": "code",
   "execution_count": 47,
   "id": "59e9f01d-3a41-45c5-af0b-6aed8dc7b1ee",
   "metadata": {},
   "outputs": [
    {
     "data": {
      "text/plain": [
       "True"
      ]
     },
     "execution_count": 47,
     "metadata": {},
     "output_type": "execute_result"
    }
   ],
   "source": [
    "True and True"
   ]
  },
  {
   "cell_type": "code",
   "execution_count": 48,
   "id": "19c15590-6c26-4a64-9ba0-a9279c142c73",
   "metadata": {},
   "outputs": [
    {
     "data": {
      "text/plain": [
       "False"
      ]
     },
     "execution_count": 48,
     "metadata": {},
     "output_type": "execute_result"
    }
   ],
   "source": [
    "True and False"
   ]
  },
  {
   "cell_type": "code",
   "execution_count": 49,
   "id": "0cfbcaad-ff3a-4632-9c17-10a480b558ce",
   "metadata": {},
   "outputs": [
    {
     "data": {
      "text/plain": [
       "True"
      ]
     },
     "execution_count": 49,
     "metadata": {},
     "output_type": "execute_result"
    }
   ],
   "source": [
    "True or False"
   ]
  },
  {
   "cell_type": "code",
   "execution_count": 50,
   "id": "00898a58-b82c-4f6c-980f-cc3d943bda23",
   "metadata": {},
   "outputs": [
    {
     "data": {
      "text/plain": [
       "True"
      ]
     },
     "execution_count": 50,
     "metadata": {},
     "output_type": "execute_result"
    }
   ],
   "source": [
    "True or True"
   ]
  },
  {
   "cell_type": "code",
   "execution_count": 52,
   "id": "85ca9184-525e-454a-9c4d-adac2bc7a05b",
   "metadata": {},
   "outputs": [
    {
     "name": "stdout",
     "output_type": "stream",
     "text": [
      "True\n",
      "False\n"
     ]
    }
   ],
   "source": [
    "a = 10\n",
    "b = 5\n",
    "print(a > 0 and b > 0)  # True and True → True\n",
    "print(a > 0 and b < 0)  # True and False → False\n"
   ]
  },
  {
   "cell_type": "code",
   "execution_count": 53,
   "id": "7ea7ba73-b910-43a6-aaf9-3b5e85f29256",
   "metadata": {},
   "outputs": [
    {
     "name": "stdout",
     "output_type": "stream",
     "text": [
      "True\n",
      "False\n"
     ]
    }
   ],
   "source": [
    "x = -3\n",
    "y = 7\n",
    "print(x > 0 or y > 0)   # False or True → True\n",
    "print(x > 0 or y < 0)   # False or False → False\n"
   ]
  },
  {
   "cell_type": "code",
   "execution_count": 55,
   "id": "462c44fc-a80e-4310-841c-4f109a6c42a2",
   "metadata": {},
   "outputs": [
    {
     "name": "stdout",
     "output_type": "stream",
     "text": [
      "False\n",
      "True\n"
     ]
    }
   ],
   "source": [
    "z = 15\n",
    "print(not z > 10)       # not True → False\n",
    "print(not z < 10)       # not False → True\n"
   ]
  },
  {
   "cell_type": "markdown",
   "id": "8db781e9-70f6-4f41-bf56-665bff3eb97e",
   "metadata": {},
   "source": [
    "# lists"
   ]
  },
  {
   "cell_type": "code",
   "execution_count": 56,
   "id": "85410955-7d36-4c9e-b9a9-cfa31d2ed281",
   "metadata": {},
   "outputs": [],
   "source": [
    "# A list in Python is a collection of items that are: Ordered (items have a defined order) , Changeable (you can add, remove, or update items) , Allow duplicates ,Written using square brackets [ ]\n",
    "\n"
   ]
  },
  {
   "cell_type": "code",
   "execution_count": 58,
   "id": "4370b947-0e18-409b-a2a6-3502d84aa122",
   "metadata": {},
   "outputs": [
    {
     "name": "stdout",
     "output_type": "stream",
     "text": [
      "[10, 20, 30, 40]\n"
     ]
    }
   ],
   "source": [
    "my_list = [10, 20, 30, 40]\n",
    "print(my_list)  # Output: [10, 20, 30, 40]\n"
   ]
  },
  {
   "cell_type": "code",
   "execution_count": 59,
   "id": "9c27c3fd-d574-45ef-b5aa-9100742e7fbf",
   "metadata": {},
   "outputs": [
    {
     "name": "stdout",
     "output_type": "stream",
     "text": [
      "[1, 'apple', 3.14, True]\n"
     ]
    }
   ],
   "source": [
    "mixed_list = [1, \"apple\", 3.14, True] #can store different data types\n",
    "print(mixed_list)"
   ]
  },
  {
   "cell_type": "code",
   "execution_count": 61,
   "id": "5c21f432-3648-4ad6-82b9-6a763742713b",
   "metadata": {},
   "outputs": [
    {
     "name": "stdout",
     "output_type": "stream",
     "text": [
      "10\n",
      "40\n"
     ]
    }
   ],
   "source": [
    "print(my_list[0])  # Output: 10 (first element) #indexing\n",
    "print(my_list[-1]) # Output: 40 (last element)\n"
   ]
  },
  {
   "cell_type": "code",
   "execution_count": 62,
   "id": "c4a23965-7186-47a3-9e25-a041d21e6d83",
   "metadata": {},
   "outputs": [
    {
     "name": "stdout",
     "output_type": "stream",
     "text": [
      "[20, 30]\n"
     ]
    }
   ],
   "source": [
    "print(my_list[1:3])  # Output: [20, 30] #slicing\n"
   ]
  },
  {
   "cell_type": "code",
   "execution_count": 63,
   "id": "2916f0c6-0f86-4a4d-b2f4-0c5e7dceccf6",
   "metadata": {},
   "outputs": [
    {
     "name": "stdout",
     "output_type": "stream",
     "text": [
      "[10, 20, 99, 40]\n"
     ]
    }
   ],
   "source": [
    "# Modify elements:\n",
    "my_list[2] = 99\n",
    "print(my_list)  # Output: [10, 20, 99, 40]\n"
   ]
  },
  {
   "cell_type": "code",
   "execution_count": 69,
   "id": "b2bfb58c-f5b6-43c7-a043-d184e99531d8",
   "metadata": {},
   "outputs": [
    {
     "name": "stdout",
     "output_type": "stream",
     "text": [
      "[10, 99, 40, 50, 50, 50, 50]\n"
     ]
    }
   ],
   "source": [
    "# Add items:\n",
    "my_list.append(50)\n",
    "print(my_list)  # Output: [10, 20, 99, 40, 50]\n"
   ]
  },
  {
   "cell_type": "code",
   "execution_count": 71,
   "id": "42637b9c-5fdd-4c14-8998-46d7d9a954d8",
   "metadata": {},
   "outputs": [
    {
     "name": "stdout",
     "output_type": "stream",
     "text": [
      "[10, 99, 40, 50, 50, 50]\n"
     ]
    }
   ],
   "source": [
    "# Remove items:\n",
    "\n",
    "my_list.remove(50)\n",
    "print(my_list)  # Output: [10, 99, 40, 50]\n"
   ]
  },
  {
   "cell_type": "code",
   "execution_count": 78,
   "id": "364f9438-f92c-4e62-85b3-54b43d1b42e6",
   "metadata": {},
   "outputs": [
    {
     "name": "stdout",
     "output_type": "stream",
     "text": [
      "[10, 40, 50, 50, 50, 99]\n"
     ]
    }
   ],
   "source": [
    "# sorting \n",
    "\n",
    "my_list.sort()\n",
    "print(my_list)"
   ]
  },
  {
   "cell_type": "code",
   "execution_count": 79,
   "id": "a56b30c9-d3b0-4d97-a551-e6a0885c80cf",
   "metadata": {},
   "outputs": [
    {
     "data": {
      "text/plain": [
       "6"
      ]
     },
     "execution_count": 79,
     "metadata": {},
     "output_type": "execute_result"
    }
   ],
   "source": [
    "len(my_list)"
   ]
  },
  {
   "cell_type": "markdown",
   "id": "3e8d5af9-5358-40ae-a19f-353b800a8c04",
   "metadata": {},
   "source": [
    "# pop method "
   ]
  },
  {
   "cell_type": "code",
   "execution_count": 81,
   "id": "d40cc2c2-359c-4170-9c39-abe2c5d524e9",
   "metadata": {},
   "outputs": [
    {
     "name": "stdout",
     "output_type": "stream",
     "text": [
      "40\n",
      "[10, 20, 30]\n"
     ]
    }
   ],
   "source": [
    "# pop() method is used to remove and return an element from a list.\n",
    "\n",
    "my_list = [10, 20, 30, 40]\n",
    "removed_item = my_list.pop()\n",
    "print(removed_item)   # Output: 40 (last item)\n",
    "print(my_list)        # Output: [10, 20, 30]\n"
   ]
  },
  {
   "cell_type": "code",
   "execution_count": 82,
   "id": "03a757d3-16ce-451b-9eab-831d84d8b62c",
   "metadata": {},
   "outputs": [
    {
     "name": "stdout",
     "output_type": "stream",
     "text": [
      "200\n",
      "[100, 300, 400]\n"
     ]
    }
   ],
   "source": [
    "# pop(index) — Remove by Position\n",
    "\n",
    "my_list = [100, 200, 300, 400]\n",
    "removed = my_list.pop(1)   # removes item at index 1 → 200\n",
    "print(removed)             # Output: 200\n",
    "print(my_list)             # Output: [100, 300, 400]\n"
   ]
  },
  {
   "cell_type": "markdown",
   "id": "3ba78f7f-8d8c-4a6d-8d55-ab0408ab4fe6",
   "metadata": {},
   "source": [
    "# count() Method"
   ]
  },
  {
   "cell_type": "code",
   "execution_count": 84,
   "id": "6ac84c6a-93b8-43e9-9fd4-a2718d708942",
   "metadata": {},
   "outputs": [],
   "source": [
    "# count() method returns the number of times a specified value appears in a list.\n",
    "# list.count(value)\n",
    "\n"
   ]
  },
  {
   "cell_type": "code",
   "execution_count": 86,
   "id": "3467ec33-8d13-4180-934b-6a960d4972e2",
   "metadata": {},
   "outputs": [
    {
     "name": "stdout",
     "output_type": "stream",
     "text": [
      "3\n",
      "1\n",
      "0\n"
     ]
    }
   ],
   "source": [
    "fruits = [\"apple\", \"banana\", \"apple\", \"cherry\", \"apple\"]\n",
    "\n",
    "print(fruits.count(\"apple\"))   # Output: 3\n",
    "print(fruits.count(\"banana\"))  # Output: 1\n",
    "print(fruits.count(\"mango\"))   # Output: 0\n"
   ]
  },
  {
   "cell_type": "code",
   "execution_count": 87,
   "id": "7a3dc5a1-b055-4018-8f84-1d16c9d57ff1",
   "metadata": {},
   "outputs": [
    {
     "name": "stdout",
     "output_type": "stream",
     "text": [
      "3\n"
     ]
    }
   ],
   "source": [
    "numbers = [1, 2, 2, 3, 4, 2, 5]\n",
    "\n",
    "print(numbers.count(2))  # Output: 3\n"
   ]
  },
  {
   "cell_type": "code",
   "execution_count": null,
   "id": "8cfba3d5-95db-4911-ba3b-54b4329026a1",
   "metadata": {},
   "outputs": [],
   "source": []
  }
 ],
 "metadata": {
  "kernelspec": {
   "display_name": "Python 3 (ipykernel)",
   "language": "python",
   "name": "python3"
  },
  "language_info": {
   "codemirror_mode": {
    "name": "ipython",
    "version": 3
   },
   "file_extension": ".py",
   "mimetype": "text/x-python",
   "name": "python",
   "nbconvert_exporter": "python",
   "pygments_lexer": "ipython3",
   "version": "3.12.7"
  }
 },
 "nbformat": 4,
 "nbformat_minor": 5
}
