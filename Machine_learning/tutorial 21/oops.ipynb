
{
 "cells": [
  {
   "cell_type": "markdown",
   "id": "10c542ba",
   "metadata": {},
   "source": [
    "# object oriented programming"
   ]
  },
  {
   "cell_type": "code",
   "execution_count": 1,
   "id": "c7e741f7",
   "metadata": {},
   "outputs": [],
   "source": [
    "class car:\n",
    "    pass"
   ]
  },
  {
   "cell_type": "code",
   "execution_count": 3,
   "id": "346291e1",
   "metadata": {},
   "outputs": [],
   "source": [
    "car1=car()"
   ]
  },
  {
   "cell_type": "code",
   "execution_count": 4,
   "id": "c1a00c4a",
   "metadata": {},
   "outputs": [
    {
     "data": {
      "text/plain": [
       "<__main__.car at 0x16a10278c50>"
      ]
     },
     "execution_count": 4,
     "metadata": {},
     "output_type": "execute_result"
    }
   ],
   "source": [
    "car1"
   ]
  },
  {
   "cell_type": "code",
   "execution_count": 5,
   "id": "9576c431",
   "metadata": {},
   "outputs": [],
   "source": [
    "car1.windows=4\n",
    "car1.doors=5\n"
   ]
  },
  {
   "cell_type": "code",
   "execution_count": 6,
   "id": "4e230600",
   "metadata": {},
   "outputs": [
    {
     "name": "stdout",
     "output_type": "stream",
     "text": [
      "4\n"
     ]
    }
   ],
   "source": [
    "print(car1.windows)\n"
   ]
  },
  {
   "cell_type": "code",
   "execution_count": 8,
   "id": "2aeb4427",
   "metadata": {},
   "outputs": [
    {
     "name": "stdout",
     "output_type": "stream",
     "text": [
      "5\n"
     ]
    }
   ],
   "source": [
    "print(car1.doors)"
   ]
  },
  {
   "cell_type": "code",
   "execution_count": 9,
   "id": "e9471ee6",
   "metadata": {},
   "outputs": [],
   "source": [
    "car2=car()"
   ]
  },
  {
   "cell_type": "code",
   "execution_count": 10,
   "id": "cd567216",
   "metadata": {},
   "outputs": [],
   "source": [
    "car2.windows=2\n",
    "car2.doors=3"
   ]
  },
  {
   "cell_type": "code",
   "execution_count": 11,
   "id": "dfba4dca",
   "metadata": {},
   "outputs": [
    {
     "name": "stdout",
     "output_type": "stream",
     "text": [
      "2\n"
     ]
    }
   ],
   "source": [
    "print(car2.windows)"
   ]
  },
  {
   "cell_type": "code",
   "execution_count": 12,
   "id": "3c9aedcf",
   "metadata": {},
   "outputs": [],
   "source": [
    "car2.enginetype='petrol'"
   ]
  },
  {
   "cell_type": "code",
   "execution_count": 13,
   "id": "e4688601",
   "metadata": {},
   "outputs": [
    {
     "name": "stdout",
     "output_type": "stream",
     "text": [
      "petrol\n"
     ]
    }
   ],
   "source": [
    "print(car2.enginetype)"
   ]
  },
  {
   "cell_type": "code",
   "execution_count": 14,
   "id": "11a2a144",
   "metadata": {},
   "outputs": [
    {
     "data": {
      "text/plain": [
       "['__class__',\n",
       " '__delattr__',\n",
       " '__dict__',\n",
       " '__dir__',\n",
       " '__doc__',\n",
       " '__eq__',\n",
       " '__format__',\n",
       " '__ge__',\n",
       " '__getattribute__',\n",
       " '__getstate__',\n",
       " '__gt__',\n",
       " '__hash__',\n",
       " '__init__',\n",
       " '__init_subclass__',\n",
       " '__le__',\n",
       " '__lt__',\n",
       " '__module__',\n",
       " '__ne__',\n",
       " '__new__',\n",
       " '__reduce__',\n",
       " '__reduce_ex__',\n",
       " '__repr__',\n",
       " '__setattr__',\n",
       " '__sizeof__',\n",
       " '__str__',\n",
       " '__subclasshook__',\n",
       " '__weakref__',\n",
       " 'doors',\n",
       " 'windows']"
      ]
     },
     "execution_count": 14,
     "metadata": {},
     "output_type": "execute_result"
    }
   ],
   "source": [
    "dir(car1)"
   ]
  },
  {
   "cell_type": "code",
   "execution_count": 32,
   "id": "4e08580f",
   "metadata": {},
   "outputs": [],
   "source": [
    "class car:\n",
    "    def __init__(self,window,door,enginetype):\n",
    "        self.windows=window\n",
    "        self.doors=door\n",
    "        self.enginetype=enginetype\n",
    "        \n",
    "    def self_driving(self):\n",
    "        return \"this is a {} car\" .format(self.enginetype)"
   ]
  },
  {
   "cell_type": "code",
   "execution_count": 33,
   "id": "bb79d4df",
   "metadata": {},
   "outputs": [],
   "source": [
    "car1=car(4,5,\"diesel\")"
   ]
  },
  {
   "cell_type": "code",
   "execution_count": 34,
   "id": "ffb2b003",
   "metadata": {},
   "outputs": [
    {
     "name": "stdout",
     "output_type": "stream",
     "text": [
      "<__main__.car object at 0x0000016A102798E0>\n"
     ]
    }
   ],
   "source": [
    "print(car1)"
   ]
  },
  {
   "cell_type": "code",
   "execution_count": 35,
   "id": "ebab12e3",
   "metadata": {},
   "outputs": [
    {
     "data": {
      "text/plain": [
       "'this is a diesel car'"
      ]
     },
     "execution_count": 35,
     "metadata": {},
     "output_type": "execute_result"
    }
   ],
   "source": [
    "car1.self_driving()"
   ]
  },
  {
   "cell_type": "code",
   "execution_count": 36,
   "id": "afb0d9fe",
   "metadata": {},
   "outputs": [
    {
     "name": "stdout",
     "output_type": "stream",
     "text": [
      "4\n",
      "5\n",
      "diesel\n"
     ]
    }
   ],
   "source": [
    "print(car1.windows)\n",
    "print(car1.doors)\n",
    "print(car1.enginetype)"
   ]
  },
  {
   "cell_type": "code",
   "execution_count": 37,
   "id": "3935b209",
   "metadata": {},
   "outputs": [
    {
     "name": "stdout",
     "output_type": "stream",
     "text": [
      "<__main__.car object at 0x0000016A104ABDA0>\n",
      "3\n",
      "4\n",
      "petrol\n"
     ]
    }
   ],
   "source": [
    "car2=car(3,4,\"petrol\")\n",
    "print(car2)\n",
    "print(car2.windows)\n",
    "print(car2.doors)\n",
    "print(car2.enginetype)"
   ]
  },
  {
   "cell_type": "code",
   "execution_count": null,
   "id": "f83cb453",
   "metadata": {},
   "outputs": [],
   "source": []
  },
  {
   "cell_type": "code",
   "execution_count": null,
   "id": "7e35800c",
   "metadata": {},
   "outputs": [],
   "source": []
  }
 ],
 "metadata": {
  "kernelspec": {
   "display_name": "base",
   "language": "python",
   "name": "python3"
  },
  "language_info": {
   "codemirror_mode": {
    "name": "ipython",
    "version": 3
   },
   "file_extension": ".py",
   "mimetype": "text/x-python",
   "name": "python",
   "nbconvert_exporter": "python",
   "pygments_lexer": "ipython3",
   "version": "3.12.7"
  }
 },
 "nbformat": 4,
 "nbformat_minor": 5
}
