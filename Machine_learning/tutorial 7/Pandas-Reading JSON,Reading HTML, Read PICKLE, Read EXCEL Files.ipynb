{
 "cells": [
  {
   "cell_type": "code",
   "execution_count": null,
   "id": "a63f04ce-88be-44ed-a717-07a0ee9a7f63",
   "metadata": {},
   "outputs": [],
   "source": []
  }
 ],
 "metadata": {
  "kernelspec": {
   "display_name": "",
   "name": ""
  },
  "language_info": {
   "name": ""
  }
 },
 "nbformat": 4,
 "nbformat_minor": 5
}
