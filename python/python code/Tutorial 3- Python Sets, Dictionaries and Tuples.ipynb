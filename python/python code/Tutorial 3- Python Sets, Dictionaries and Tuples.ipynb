{
 "cells": [
  {
   "cell_type": "markdown",
   "id": "83949b2d-dd4d-4f67-92a6-121161836fdc",
   "metadata": {},
   "source": [
    "# sets"
   ]
  },
  {
   "cell_type": "code",
   "execution_count": null,
   "id": "243d938e-5233-4f62-ae9f-4fed49eb405b",
   "metadata": {},
   "outputs": [],
   "source": [
    "#  a set is a built-in data type that represents an unordered collection of unique elements"
   ]
  },
  {
   "cell_type": "code",
   "execution_count": 1,
   "id": "cbe92394-012c-4093-a767-b70a368f63fe",
   "metadata": {},
   "outputs": [
    {
     "name": "stdout",
     "output_type": "stream",
     "text": [
      "set()\n"
     ]
    }
   ],
   "source": [
    "# defining an empty set\n",
    "\n",
    "set_var=set()\n",
    "print(set_var)\n"
   ]
  },
  {
   "cell_type": "code",
   "execution_count": 3,
   "id": "05eef671-8c7c-4072-bff9-210ff7f83760",
   "metadata": {},
   "outputs": [
    {
     "data": {
      "text/plain": [
       "set"
      ]
     },
     "execution_count": 3,
     "metadata": {},
     "output_type": "execute_result"
    }
   ],
   "source": [
    "type(set_var)"
   ]
  },
  {
   "cell_type": "code",
   "execution_count": 4,
   "id": "177ba016-fcf1-482b-b72a-4ad1de033f36",
   "metadata": {},
   "outputs": [
    {
     "name": "stdout",
     "output_type": "stream",
     "text": [
      "{'hitman', 'avengers', 'ironman'}\n"
     ]
    }
   ],
   "source": [
    "set_var={'avengers','ironman','hitman'}\n",
    "print(set_var)"
   ]
  },
  {
   "cell_type": "code",
   "execution_count": 5,
   "id": "e5884770-3d72-4901-8c92-e083113c2cf3",
   "metadata": {},
   "outputs": [
    {
     "data": {
      "text/plain": [
       "set"
      ]
     },
     "execution_count": 5,
     "metadata": {},
     "output_type": "execute_result"
    }
   ],
   "source": [
    "type(set_var)"
   ]
  },
  {
   "cell_type": "code",
   "execution_count": 7,
   "id": "fb17ee38-8173-4f2e-9b92-85faa8003b7c",
   "metadata": {},
   "outputs": [
    {
     "name": "stdout",
     "output_type": "stream",
     "text": [
      "{'hitman', 'avengers', 'hulk', 'ironman'}\n"
     ]
    }
   ],
   "source": [
    "# inbuilt function in sets\n",
    "\n",
    "set_var.add('hulk')\n",
    "print(set_var)"
   ]
  },
  {
   "cell_type": "code",
   "execution_count": 9,
   "id": "46e77b95-7c83-4988-8fb1-149298b9d556",
   "metadata": {},
   "outputs": [
    {
     "name": "stdout",
     "output_type": "stream",
     "text": [
      "{1, 2, 3}\n",
      "{4, 5, 6}\n"
     ]
    }
   ],
   "source": [
    "# Creating a Set\n",
    "\n",
    "set1 = {1, 2, 3}\n",
    "set2 = set([4, 5, 6])\n",
    "print(set1)\n",
    "print(set2)"
   ]
  },
  {
   "cell_type": "code",
   "execution_count": 11,
   "id": "60efb834-3829-411d-b3c3-174a1d052cea",
   "metadata": {},
   "outputs": [
    {
     "name": "stdout",
     "output_type": "stream",
     "text": [
      "{1, 2, 3, 4}\n"
     ]
    }
   ],
   "source": [
    "# Adding Elements\n",
    "set1.add(4)\n",
    "print(set1)"
   ]
  },
  {
   "cell_type": "code",
   "execution_count": 12,
   "id": "6467c566-2e2b-4b84-b867-d5bfd0eb22ed",
   "metadata": {},
   "outputs": [
    {
     "name": "stdout",
     "output_type": "stream",
     "text": [
      "{1, 3, 4}\n",
      "{1, 3, 4}\n"
     ]
    }
   ],
   "source": [
    "#removing elements\n",
    "\n",
    "set1.remove(2)       # Raises error if element not found\n",
    "set1.discard(2)      # Does NOT raise error if element not found\n",
    "\n",
    "print(set1)\n",
    "print(set1)\n"
   ]
  },
  {
   "cell_type": "code",
   "execution_count": 13,
   "id": "2d42a0f5-11e4-401a-aa92-40c326ca73bb",
   "metadata": {},
   "outputs": [
    {
     "data": {
      "text/plain": [
       "{1, 2, 4, 5}"
      ]
     },
     "execution_count": 13,
     "metadata": {},
     "output_type": "execute_result"
    }
   ],
   "source": [
    "# set methods\n",
    "\n",
    "a = {1, 2, 3}\n",
    "b = {3, 4, 5}\n",
    "\n",
    "a.union(b)           # {1, 2, 3, 4, 5}\n",
    "a.intersection(b)    # {3}\n",
    "a.difference(b)      # {1, 2}\n",
    "a.symmetric_difference(b)  # {1, 2, 4, 5}\n"
   ]
  },
  {
   "cell_type": "code",
   "execution_count": 16,
   "id": "0ed8599b-8e1b-4159-9a71-baf5a3f1c7c8",
   "metadata": {},
   "outputs": [
    {
     "data": {
      "text/plain": [
       "True"
      ]
     },
     "execution_count": 16,
     "metadata": {},
     "output_type": "execute_result"
    }
   ],
   "source": [
    "#  Membership Test\n",
    "3 in a       # True\n",
    "\n"
   ]
  },
  {
   "cell_type": "code",
   "execution_count": 18,
   "id": "bd8ca37b-8909-49c9-918b-9ec7ff3b6d08",
   "metadata": {},
   "outputs": [
    {
     "data": {
      "text/plain": [
       "False"
      ]
     },
     "execution_count": 18,
     "metadata": {},
     "output_type": "execute_result"
    }
   ],
   "source": [
    "\n",
    "5  in a   # false\n"
   ]
  },
  {
   "cell_type": "code",
   "execution_count": 19,
   "id": "15f4dfd2-e2ad-440c-a1df-e70a207353ec",
   "metadata": {},
   "outputs": [
    {
     "name": "stdout",
     "output_type": "stream",
     "text": [
      "1\n",
      "2\n",
      "3\n"
     ]
    }
   ],
   "source": [
    "# Looping Through a Set\n",
    "\n",
    "for item in a:\n",
    "    print(item)\n",
    "\n"
   ]
  },
  {
   "cell_type": "markdown",
   "id": "733f2fd7-c909-4ef4-bf04-f3a2025f59ac",
   "metadata": {},
   "source": [
    "# dictionaries"
   ]
  },
  {
   "cell_type": "code",
   "execution_count": 20,
   "id": "6c5c905e-d1b4-4a9e-94fa-38777330f53c",
   "metadata": {},
   "outputs": [],
   "source": [
    "#  dictionary is an unordered, mutable collection of key-value pairs"
   ]
  },
  {
   "cell_type": "code",
   "execution_count": 22,
   "id": "171cee7d-61c1-4725-8ec9-6b4a19c184ea",
   "metadata": {},
   "outputs": [
    {
     "name": "stdout",
     "output_type": "stream",
     "text": [
      "{'name': 'Alice', 'age': 25, 'is_student': True}\n"
     ]
    }
   ],
   "source": [
    "my_dict = {\n",
    "    \"name\": \"Alice\",\n",
    "    \"age\": 25,\n",
    "    \"is_student\": True\n",
    "}\n",
    "print (my_dict)"
   ]
  },
  {
   "cell_type": "code",
   "execution_count": 23,
   "id": "58163a14-5912-4d9d-b6b0-2e177aeb5140",
   "metadata": {},
   "outputs": [
    {
     "name": "stdout",
     "output_type": "stream",
     "text": [
      "Alice\n",
      "25\n"
     ]
    }
   ],
   "source": [
    "# Accessing Values\n",
    "\n",
    "print(my_dict[\"name\"])       # Alice\n",
    "print(my_dict.get(\"age\"))    # 25\n"
   ]
  },
  {
   "cell_type": "code",
   "execution_count": 24,
   "id": "4cf22ccf-fab2-4977-8ad9-2b0ffb0ad92e",
   "metadata": {},
   "outputs": [
    {
     "name": "stdout",
     "output_type": "stream",
     "text": [
      "{'name': 'Alice', 'age': 26, 'is_student': True, 'city': 'Paris'}\n"
     ]
    }
   ],
   "source": [
    "# Adding/Updating Values\n",
    "\n",
    "my_dict[\"age\"] = 26          # Update\n",
    "my_dict[\"city\"] = \"Paris\"    # Add new key-value\n",
    "\n",
    "print(my_dict)"
   ]
  },
  {
   "cell_type": "code",
   "execution_count": 29,
   "id": "2830670d-b216-4de6-a85e-8b5fb64b1495",
   "metadata": {},
   "outputs": [
    {
     "name": "stdout",
     "output_type": "stream",
     "text": [
      "{'age': 25}\n"
     ]
    }
   ],
   "source": [
    "#  Removing Items from a Dictionary\n",
    "my_dict = {\"name\": \"Alice\", \"age\": 25}\n",
    "del my_dict[\"name\"]  # Removes the key \"name\" and its value\n",
    "print(my_dict)       # Output: {'age': 25}\n"
   ]
  },
  {
   "cell_type": "code",
   "execution_count": 30,
   "id": "7e684a54-f483-4f59-9b4c-f03e6b114737",
   "metadata": {},
   "outputs": [
    {
     "data": {
      "text/plain": [
       "dict_items([('age', 25)])"
      ]
     },
     "execution_count": 30,
     "metadata": {},
     "output_type": "execute_result"
    }
   ],
   "source": [
    "# useful methods\n",
    "\n",
    "my_dict.keys()               # Returns all keys\n",
    "my_dict.values()             # Returns all values\n",
    "my_dict.items()              # Returns key-value pairs\n"
   ]
  },
  {
   "cell_type": "markdown",
   "id": "abc21c93-6f8b-4558-8c08-d91c00087e01",
   "metadata": {},
   "source": [
    "# tuple"
   ]
  },
  {
   "cell_type": "code",
   "execution_count": 31,
   "id": "17fb671c-429e-4487-bec4-a9c97586adb2",
   "metadata": {},
   "outputs": [],
   "source": [
    "#  a tuple is an ordered, immutable collection of elements.\n"
   ]
  },
  {
   "cell_type": "code",
   "execution_count": 32,
   "id": "67d78514-b2b2-4123-9814-b30e9a37075c",
   "metadata": {},
   "outputs": [
    {
     "name": "stdout",
     "output_type": "stream",
     "text": [
      "(1, 2, 3)\n"
     ]
    }
   ],
   "source": [
    "my_tuple = (1, 2, 3)\n",
    "print(my_tuple)"
   ]
  },
  {
   "cell_type": "code",
   "execution_count": 33,
   "id": "04df3338-b3cb-4d03-a01b-b9ec036500a2",
   "metadata": {},
   "outputs": [
    {
     "name": "stdout",
     "output_type": "stream",
     "text": [
      "(1, 2, 3)\n"
     ]
    }
   ],
   "source": [
    "my_tuple = 1, 2, 3\n",
    "print(my_tuple)"
   ]
  },
  {
   "cell_type": "code",
   "execution_count": 34,
   "id": "9bb0e40c-ee4b-46f7-928f-5f25a39ade77",
   "metadata": {},
   "outputs": [
    {
     "name": "stdout",
     "output_type": "stream",
     "text": [
      "1\n"
     ]
    }
   ],
   "source": [
    "# Accessing Elements\n",
    "print(my_tuple[0])  # Output: 1\n"
   ]
  },
  {
   "cell_type": "code",
   "execution_count": 35,
   "id": "99dfa00d-d68f-49d6-93cb-dde8c7122aad",
   "metadata": {},
   "outputs": [
    {
     "data": {
      "text/plain": [
       "2"
      ]
     },
     "execution_count": 35,
     "metadata": {},
     "output_type": "execute_result"
    }
   ],
   "source": [
    "# Tuple Operations\n",
    "\n",
    "len(my_tuple)           # Length of tuple\n",
    "my_tuple.count(2)       # Count occurrences\n",
    "my_tuple.index(3)       # Index of first occurrence of value\n",
    "\n"
   ]
  },
  {
   "cell_type": "code",
   "execution_count": 36,
   "id": "ba8406d6-512c-40ce-ab12-8bf7a48cf96a",
   "metadata": {},
   "outputs": [
    {
     "data": {
      "text/plain": [
       "(2, 3)"
      ]
     },
     "execution_count": 36,
     "metadata": {},
     "output_type": "execute_result"
    }
   ],
   "source": [
    "# Slicing a Tuple\n",
    "\n",
    "my_tuple[1:3]           # Returns (2, 3)\n"
   ]
  },
  {
   "cell_type": "code",
   "execution_count": null,
   "id": "cfc9babb-b4fa-4892-817d-184b035934b6",
   "metadata": {},
   "outputs": [],
   "source": [
    "# Nested Tuples\n",
    "\n"
   ]
  }
 ],
 "metadata": {
  "kernelspec": {
   "display_name": "Python 3 (ipykernel)",
   "language": "python",
   "name": "python3"
  },
  "language_info": {
   "codemirror_mode": {
    "name": "ipython",
    "version": 3
   },
   "file_extension": ".py",
   "mimetype": "text/x-python",
   "name": "python",
   "nbconvert_exporter": "python",
   "pygments_lexer": "ipython3",
   "version": "3.12.7"
  }
 },
 "nbformat": 4,
 "nbformat_minor": 5
}
