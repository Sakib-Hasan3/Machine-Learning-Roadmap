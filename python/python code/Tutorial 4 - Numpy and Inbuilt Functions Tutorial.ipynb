{
 "cells": [
  {
   "cell_type": "markdown",
   "id": "7996c217-10e5-4d2c-ae83-ddaa254334bb",
   "metadata": {},
   "source": [
    "# Numpy"
   ]
  },
  {
   "cell_type": "code",
   "execution_count": 1,
   "id": "890d07b4-bd18-4d7c-aac2-a3aeba3d81d9",
   "metadata": {},
   "outputs": [],
   "source": [
    "# NumPy (Numerical Python) হলো একটি শক্তিশালী Python লাইব্রেরি যা মূলত বহু-মাত্রিক অ্যারে (multi-dimensional array) এবং গাণিতিক গণনার (numerical computation) জন্য ব্যবহৃত হয়।"
   ]
  },
  {
   "cell_type": "code",
   "execution_count": 2,
   "id": "0dade242-7a87-40e5-be8f-925b8f5026bf",
   "metadata": {},
   "outputs": [],
   "source": [
    "import numpy as np\n"
   ]
  },
  {
   "cell_type": "code",
   "execution_count": 3,
   "id": "f8ca7b24-7b2e-4c49-ae9b-69108b8d8a5e",
   "metadata": {},
   "outputs": [
    {
     "name": "stdout",
     "output_type": "stream",
     "text": [
      "[1 2 3 4]\n",
      "[[1 2]\n",
      " [3 4]]\n"
     ]
    }
   ],
   "source": [
    "#create array\n",
    "\n",
    "# 1 dimension array\n",
    "arr1 = np.array([1, 2, 3, 4])\n",
    "print(arr1)\n",
    "# 2 dimension array( like matrix)\n",
    "arr2 = np.array([[1, 2], [3, 4]])\n",
    "print(arr2)"
   ]
  },
  {
   "cell_type": "code",
   "execution_count": 4,
   "id": "b03d28d6-fa14-4576-a2b7-a4b194b63ca5",
   "metadata": {},
   "outputs": [
    {
     "data": {
      "text/plain": [
       "4"
      ]
     },
     "execution_count": 4,
     "metadata": {},
     "output_type": "execute_result"
    }
   ],
   "source": [
    "# Checking Array Properties\n",
    "\n",
    "arr1.shape     # Shape (e.g., (4,))\n",
    "arr1.ndim      # Number of dimensions (e.g., 1)\n",
    "arr1.dtype     # Data type (e.g., int32)\n",
    "arr1.size      # Total number of elements\n",
    "\n"
   ]
  },
  {
   "cell_type": "code",
   "execution_count": 5,
   "id": "e794b98e-9702-4bff-a206-ff6c46643c34",
   "metadata": {},
   "outputs": [
    {
     "data": {
      "text/plain": [
       "array([2, 4, 6, 8])"
      ]
     },
     "execution_count": 5,
     "metadata": {},
     "output_type": "execute_result"
    }
   ],
   "source": [
    "# Array Operations\n",
    "\n",
    "arr1 + 2        # Adds 2 to each element\n",
    "arr1 * 3        # Multiplies each element by 3\n",
    "arr1 - 1        # Subtracts 1 from each element\n",
    "arr1 / 2        # Divides each element by 2\n",
    "\n",
    "# Array-to-array operations\n",
    "arr1 + arr1     # Adds elements from both arrays\n"
   ]
  },
  {
   "cell_type": "code",
   "execution_count": 6,
   "id": "1737576c-156e-4e3a-8e11-c389613e13ee",
   "metadata": {},
   "outputs": [
    {
     "data": {
      "text/plain": [
       "array([0.  , 0.25, 0.5 , 0.75, 1.  ])"
      ]
     },
     "execution_count": 6,
     "metadata": {},
     "output_type": "execute_result"
    }
   ],
   "source": [
    "# Common NumPy Functions\n",
    "\n",
    "np.zeros((2, 3))       # 2x3 array filled with zeros\n",
    "np.ones((3, 3))        # 3x3 array filled with ones\n",
    "np.eye(4)              # 4x4 identity matrix\n",
    "np.arange(0, 10, 2)    # [0, 2, 4, 6, 8]\n",
    "np.linspace(0, 1, 5)   # 5 values between 0 and 1 (inclusive)\n"
   ]
  },
  {
   "cell_type": "code",
   "execution_count": 7,
   "id": "8c98253d-8fad-4704-91b3-553c0ee4a74c",
   "metadata": {},
   "outputs": [
    {
     "data": {
      "text/plain": [
       "1.118033988749895"
      ]
     },
     "execution_count": 7,
     "metadata": {},
     "output_type": "execute_result"
    }
   ],
   "source": [
    "#  Basic Statistical Functions\n",
    "\n",
    "arr1.sum()         # Sum of all elements\n",
    "arr1.mean()        # Average value\n",
    "arr1.max()         # Maximum value\n",
    "arr1.min()         # Minimum value\n",
    "arr1.std()         # Standard deviation\n",
    "\n"
   ]
  },
  {
   "cell_type": "code",
   "execution_count": 8,
   "id": "adc8bf6d-c983-4429-a64a-bcf64d64a95e",
   "metadata": {},
   "outputs": [
    {
     "data": {
      "text/plain": [
       "array([2, 3])"
      ]
     },
     "execution_count": 8,
     "metadata": {},
     "output_type": "execute_result"
    }
   ],
   "source": [
    "# ndexing and Slicing\n",
    "\n",
    "arr1[0]        # First element\n",
    "arr1[-1]       # Last element\n",
    "arr1[1:3]      # Elements from index 1 to 2\n"
   ]
  },
  {
   "cell_type": "code",
   "execution_count": 9,
   "id": "8df9ec98-5850-4672-952c-7e725c4077b5",
   "metadata": {},
   "outputs": [
    {
     "data": {
      "text/plain": [
       "array([3, 4])"
      ]
     },
     "execution_count": 9,
     "metadata": {},
     "output_type": "execute_result"
    }
   ],
   "source": [
    "# Multi-dimensional Indexing\n",
    "\n",
    "arr2 = np.array([[1, 2], [3, 4]])\n",
    "\n",
    "arr2[0, 1]     # First row, second column = 2\n",
    "arr2[1]        # Second row = [3, 4]\n"
   ]
  },
  {
   "cell_type": "code",
   "execution_count": 10,
   "id": "e35e1f57-e0ec-488c-b64a-0470b17d959e",
   "metadata": {},
   "outputs": [
    {
     "data": {
      "text/plain": [
       "array([[1, 4],\n",
       "       [2, 5],\n",
       "       [3, 6]])"
      ]
     },
     "execution_count": 10,
     "metadata": {},
     "output_type": "execute_result"
    }
   ],
   "source": [
    "# Reshaping and Transposing\n",
    "\n",
    "a = np.array([[1, 2, 3], [4, 5, 6]])\n",
    "\n",
    "a.reshape(3, 2)       # Reshape to 3x2\n",
    "a.T                  # Transpose (rows become columns)\n",
    "\n"
   ]
  },
  {
   "cell_type": "code",
   "execution_count": 11,
   "id": "167fd942-4b34-4fa0-baef-06a7ba2f1599",
   "metadata": {},
   "outputs": [
    {
     "data": {
      "text/plain": [
       "[array([1, 2]), array([3, 4])]"
      ]
     },
     "execution_count": 11,
     "metadata": {},
     "output_type": "execute_result"
    }
   ],
   "source": [
    "# Concatenation and Splitting\n",
    "\n",
    "np.concatenate([arr1, arr1])    # Join arrays\n",
    "np.split(arr1, 2)               # Split into two parts\n"
   ]
  },
  {
   "cell_type": "code",
   "execution_count": 12,
   "id": "fb9a6d09-ae01-4193-917c-a74451bdbcb8",
   "metadata": {},
   "outputs": [
    {
     "data": {
      "text/plain": [
       "array([3, 4])"
      ]
     },
     "execution_count": 12,
     "metadata": {},
     "output_type": "execute_result"
    }
   ],
   "source": [
    "# Conditional Filtering\n",
    "\n",
    "arr1[arr1 > 2]     # Filter elements greater than 2\n"
   ]
  },
  {
   "cell_type": "code",
   "execution_count": 13,
   "id": "7e87da97-c818-4a9b-a03e-2d309eb3599e",
   "metadata": {},
   "outputs": [
    {
     "data": {
      "text/plain": [
       "array([7, 9, 4, 8, 4])"
      ]
     },
     "execution_count": 13,
     "metadata": {},
     "output_type": "execute_result"
    }
   ],
   "source": [
    "# Generating Random Data\n",
    "\n",
    "np.random.rand(2, 2)        # 2x2 random floats in [0, 1)\n",
    "np.random.randint(1, 10, 5) # Five random integers between 1 and 9\n"
   ]
  },
  {
   "cell_type": "code",
   "execution_count": null,
   "id": "706d7541-cb95-4515-ad74-c78ab5944943",
   "metadata": {},
   "outputs": [],
   "source": []
  }
 ],
 "metadata": {
  "kernelspec": {
   "display_name": "Python 3 (ipykernel)",
   "language": "python",
   "name": "python3"
  },
  "language_info": {
   "codemirror_mode": {
    "name": "ipython",
    "version": 3
   },
   "file_extension": ".py",
   "mimetype": "text/x-python",
   "name": "python",
   "nbconvert_exporter": "python",
   "pygments_lexer": "ipython3",
   "version": "3.12.7"
  }
 },
 "nbformat": 4,
 "nbformat_minor": 5
}
